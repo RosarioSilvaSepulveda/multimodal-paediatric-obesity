{
 "cells": [
  {
   "cell_type": "markdown",
   "metadata": {},
   "source": [
    "# Feature extraction\n",
    "## Unimodal\n",
    "This notebook combines the dimensions of all modalities:\n",
    "- Modality 1: House characteristics\n",
    "- Modality 2: Household income and expenses\n",
    "- Modality 3: Health information\n",
    "- Modality 4: Biometrics\n",
    "- Modality 5: Nutritional Knowledge"
   ]
  },
  {
   "cell_type": "markdown",
   "metadata": {},
   "source": [
    "## Setup"
   ]
  },
  {
   "cell_type": "markdown",
   "metadata": {},
   "source": [
    "### Libraries"
   ]
  },
  {
   "cell_type": "code",
   "execution_count": 1,
   "metadata": {},
   "outputs": [],
   "source": [
    "# Import libraries\n",
    "import os\n",
    "import pandas as pd\n",
    "import numpy as np"
   ]
  },
  {
   "cell_type": "markdown",
   "metadata": {},
   "source": [
    "### Paths"
   ]
  },
  {
   "cell_type": "code",
   "execution_count": 2,
   "metadata": {},
   "outputs": [],
   "source": [
    "input_path = '../../2_data_preprocessing/output/'\n",
    "input_path_sample = '../output'\n",
    "\n",
    "output_path = '../output/'\n",
    "\n",
    "# Global configuration path\n",
    "glob_conf_path = '../../config/global_config_paper.py'"
   ]
  },
  {
   "cell_type": "markdown",
   "metadata": {},
   "source": [
    "### Set local variables"
   ]
  },
  {
   "cell_type": "code",
   "execution_count": 3,
   "metadata": {},
   "outputs": [],
   "source": [
    "exec(open(glob_conf_path).read())"
   ]
  },
  {
   "cell_type": "markdown",
   "metadata": {},
   "source": [
    "## Extract features"
   ]
  },
  {
   "cell_type": "code",
   "execution_count": 4,
   "metadata": {},
   "outputs": [
    {
     "name": "stdout",
     "output_type": "stream",
     "text": [
      "<class 'pandas.core.frame.DataFrame'>\n",
      "RangeIndex: 10301 entries, 0 to 10300\n",
      "Data columns (total 33 columns):\n",
      " #   Column            Non-Null Count  Dtype  \n",
      "---  ------            --------------  -----  \n",
      " 0   house_ID          10301 non-null  object \n",
      " 1   household_ID      10301 non-null  object \n",
      " 2   person_ID         10301 non-null  object \n",
      " 3   region            10301 non-null  object \n",
      " 4   strata            10301 non-null  object \n",
      " 5   locality_type     10301 non-null  object \n",
      " 6   locality_size     10301 non-null  object \n",
      " 7   age_months        10301 non-null  int64  \n",
      " 8   age_years         10301 non-null  int64  \n",
      " 9   sex               10301 non-null  object \n",
      " 10  BMI_SD            10301 non-null  float64\n",
      " 11  label_cat         10301 non-null  object \n",
      " 12  label             10301 non-null  int64  \n",
      " 13  hired_aid         10301 non-null  int64  \n",
      " 14  has_TV            10301 non-null  int64  \n",
      " 15  has_paid_TV       10301 non-null  int64  \n",
      " 16  has_radio         10301 non-null  int64  \n",
      " 17  has_audio_system  10301 non-null  int64  \n",
      " 18  has_computer      10301 non-null  int64  \n",
      " 19  has_cell_phone    10301 non-null  int64  \n",
      " 20  has_internet      10301 non-null  int64  \n",
      " 21  has_phone         10301 non-null  int64  \n",
      " 22  has_iron          10301 non-null  int64  \n",
      " 23  has_blender       10301 non-null  int64  \n",
      " 24  has_refrigerator  10301 non-null  int64  \n",
      " 25  has_gas_stove     10301 non-null  int64  \n",
      " 26  has_other_stove   10301 non-null  int64  \n",
      " 27  has_wash_dry      10301 non-null  int64  \n",
      " 28  has_microwave     10301 non-null  int64  \n",
      " 29  cook_sleep        9664 non-null   float64\n",
      " 30  food_expense      10301 non-null  int64  \n",
      " 31  cooking_room      10301 non-null  object \n",
      " 32  result_elcsa      10215 non-null  object \n",
      "dtypes: float64(2), int64(20), object(11)\n",
      "memory usage: 2.6+ MB\n"
     ]
    }
   ],
   "source": [
    "m1_dataset = pd.read_csv(os.path.join(input_path, \"m1_unimodal.csv\"))\n",
    "m1_dataset.info()"
   ]
  },
  {
   "cell_type": "code",
   "execution_count": 5,
   "metadata": {},
   "outputs": [
    {
     "name": "stdout",
     "output_type": "stream",
     "text": [
      "<class 'pandas.core.frame.DataFrame'>\n",
      "RangeIndex: 10301 entries, 0 to 10300\n",
      "Data columns (total 32 columns):\n",
      " #   Column             Non-Null Count  Dtype  \n",
      "---  ------             --------------  -----  \n",
      " 0   house_ID           10301 non-null  object \n",
      " 1   household_ID       10301 non-null  object \n",
      " 2   person_ID          10301 non-null  object \n",
      " 3   region             10301 non-null  object \n",
      " 4   strata             10301 non-null  object \n",
      " 5   locality_type      10301 non-null  object \n",
      " 6   locality_size      10301 non-null  object \n",
      " 7   age_months         10242 non-null  float64\n",
      " 8   age_years          10301 non-null  float64\n",
      " 9   sex                10301 non-null  object \n",
      " 10  BMI_SD             10301 non-null  float64\n",
      " 11  label_cat          10301 non-null  object \n",
      " 12  label              10301 non-null  float64\n",
      " 13  exp_fruits         9651 non-null   float64\n",
      " 14  exp_vegetables     9651 non-null   float64\n",
      " 15  exp_corn           9651 non-null   float64\n",
      " 16  exp_bread          9651 non-null   float64\n",
      " 17  exp_grains         9651 non-null   float64\n",
      " 18  exp_oil_sugar      9651 non-null   float64\n",
      " 19  exp_meat           9651 non-null   float64\n",
      " 20  exp_dairy          9651 non-null   float64\n",
      " 21  exp_eggs           9651 non-null   float64\n",
      " 22  exp_snacks         9651 non-null   float64\n",
      " 23  exp_fast_food      9651 non-null   float64\n",
      " 24  exp_bottled_water  9651 non-null   float64\n",
      " 25  exp_soda           9651 non-null   float64\n",
      " 26  exp_alcohol        9651 non-null   float64\n",
      " 27  exp_tobacco        9651 non-null   float64\n",
      " 28  exp_not_homemade   9651 non-null   float64\n",
      " 29  monthly_income     8326 non-null   float64\n",
      " 30  total_food_exp     9694 non-null   float64\n",
      " 31  total_medical_exp  10265 non-null  float64\n",
      "dtypes: float64(23), object(9)\n",
      "memory usage: 2.5+ MB\n"
     ]
    }
   ],
   "source": [
    "m2_dataset = pd.read_csv(os.path.join(input_path, \"m2_unimodal.csv\"))\n",
    "m2_dataset.info()"
   ]
  },
  {
   "cell_type": "code",
   "execution_count": 6,
   "metadata": {},
   "outputs": [
    {
     "name": "stdout",
     "output_type": "stream",
     "text": [
      "<class 'pandas.core.frame.DataFrame'>\n",
      "RangeIndex: 10301 entries, 0 to 10300\n",
      "Data columns (total 88 columns):\n",
      " #   Column                       Non-Null Count  Dtype  \n",
      "---  ------                       --------------  -----  \n",
      " 0   house_ID                     10301 non-null  object \n",
      " 1   household_ID                 10301 non-null  object \n",
      " 2   person_ID                    10301 non-null  object \n",
      " 3   region                       10301 non-null  object \n",
      " 4   strata                       10301 non-null  object \n",
      " 5   locality_type                10301 non-null  object \n",
      " 6   locality_size                10301 non-null  object \n",
      " 7   age_months                   10301 non-null  int64  \n",
      " 8   age_years                    10301 non-null  int64  \n",
      " 9   sex                          10301 non-null  object \n",
      " 10  BMI_SD                       10301 non-null  float64\n",
      " 11  label_cat                    10301 non-null  object \n",
      " 12  label                        10301 non-null  int64  \n",
      " 13  ob_diag                      10136 non-null  float64\n",
      " 14  dm_diag                      10136 non-null  float64\n",
      " 15  hbp_diag                     10136 non-null  float64\n",
      " 16  cvd_ha_hi                    10136 non-null  float64\n",
      " 17  cvd_chest_angina             10136 non-null  float64\n",
      " 18  cvd_heart_failure            10136 non-null  float64\n",
      " 19  kd_diag_uti                  10136 non-null  float64\n",
      " 20  kd_diag_k_stones             10136 non-null  float64\n",
      " 21  kd_diag_renal_fail           10136 non-null  float64\n",
      " 22  chol_diag                    10136 non-null  float64\n",
      " 23  trig_diag                    10136 non-null  float64\n",
      " 24  fmh_father_dm                9554 non-null   float64\n",
      " 25  fmh_father_hbp               9329 non-null   float64\n",
      " 26  fmh_father_hi                9536 non-null   float64\n",
      " 27  fmh_father_chol_tri          8811 non-null   float64\n",
      " 28  fmh_mother_dm                9909 non-null   float64\n",
      " 29  fmh_mother_hbp               9788 non-null   float64\n",
      " 30  fmh_mother_hi                9916 non-null   float64\n",
      " 31  fmh_mother_chol_tri          9342 non-null   float64\n",
      " 32  fmh_sibling_dm               9867 non-null   float64\n",
      " 33  fmh_sibling_hbp              9719 non-null   float64\n",
      " 34  fmh_sibling_hi               9883 non-null   float64\n",
      " 35  fmh_sibling_chol_tri         9372 non-null   float64\n",
      " 36  violence                     10095 non-null  float64\n",
      " 37  present_smoker               10118 non-null  float64\n",
      " 38  past_smoker                  8415 non-null   float64\n",
      " 39  sight_aid                    10136 non-null  float64\n",
      " 40  hearing_aid                  10136 non-null  float64\n",
      " 41  walk_difficulty              10136 non-null  float64\n",
      " 42  memory_difficulty            10136 non-null  float64\n",
      " 43  self_care_difficulty         10136 non-null  float64\n",
      " 44  communication_difficulty     10136 non-null  float64\n",
      " 45  sex_health_info_adult        10136 non-null  float64\n",
      " 46  hc_inst_IMSS                 10136 non-null  float64\n",
      " 47  hc_inst_ISSSTE               10136 non-null  float64\n",
      " 48  hc_inst_ISSSTE_st            10136 non-null  float64\n",
      " 49  hc_inst_PEMEX                10136 non-null  float64\n",
      " 50  hc_inst_Defensa              10136 non-null  float64\n",
      " 51  hc_inst_Marina               10136 non-null  float64\n",
      " 52  hc_inst_SSA                  10136 non-null  float64\n",
      " 53  hc_inst_IMSS_Pro             10136 non-null  float64\n",
      " 54  hc_inst_pharma               10136 non-null  float64\n",
      " 55  hc_inst_private              10136 non-null  float64\n",
      " 56  hc_inst_selfmed              10136 non-null  float64\n",
      " 57  hc_inst_other                10136 non-null  float64\n",
      " 58  hc_inst_doesnotgo            10136 non-null  float64\n",
      " 59  hc_inst_doesnotknow          10136 non-null  float64\n",
      " 60  speak_ind_lang               10136 non-null  float64\n",
      " 61  attend_school                10136 non-null  float64\n",
      " 62  grade_achieved               10136 non-null  float64\n",
      " 63  marital_status               10136 non-null  float64\n",
      " 64  worked_hours                 6852 non-null   float64\n",
      " 65  diff_use_legs                10136 non-null  float64\n",
      " 66  diff_see                     10136 non-null  float64\n",
      " 67  diff_use_arms                10136 non-null  float64\n",
      " 68  diff_learn                   10136 non-null  float64\n",
      " 69  diff_hear                    10136 non-null  float64\n",
      " 70  diff_self_care               10136 non-null  float64\n",
      " 71  diff_speak                   10136 non-null  float64\n",
      " 72  diff_daily_act               10136 non-null  float64\n",
      " 73  fruit_intake                 8375 non-null   float64\n",
      " 74  vegetable_intake             8375 non-null   float64\n",
      " 75  legumes_intake               8375 non-null   float64\n",
      " 76  meat_intake                  8375 non-null   float64\n",
      " 77  proc_meat_intake             8375 non-null   float64\n",
      " 78  fast_food_intake             8375 non-null   float64\n",
      " 79  sweets_intake                8375 non-null   float64\n",
      " 80  sug_cereal_intake            8375 non-null   float64\n",
      " 81  nd_sug_bev_intake            8375 non-null   float64\n",
      " 82  water_intake                 8375 non-null   float64\n",
      " 83  dairy_sug_bev_intake         8375 non-null   float64\n",
      " 84  dairy_intake                 8375 non-null   float64\n",
      " 85  egg_intake                   8375 non-null   float64\n",
      " 86  kinship_health_info_adult    10132 non-null  object \n",
      " 87  age_group_health_info_adult  10136 non-null  object \n",
      "dtypes: float64(74), int64(3), object(11)\n",
      "memory usage: 6.9+ MB\n"
     ]
    }
   ],
   "source": [
    "m3_dataset = pd.read_csv(os.path.join(input_path, \"m3_unimodal.csv\"))\n",
    "m3_dataset.info()"
   ]
  },
  {
   "cell_type": "code",
   "execution_count": 7,
   "metadata": {},
   "outputs": [
    {
     "name": "stdout",
     "output_type": "stream",
     "text": [
      "<class 'pandas.core.frame.DataFrame'>\n",
      "RangeIndex: 10301 entries, 0 to 10300\n",
      "Data columns (total 30 columns):\n",
      " #   Column                 Non-Null Count  Dtype  \n",
      "---  ------                 --------------  -----  \n",
      " 0   house_ID               10301 non-null  object \n",
      " 1   household_ID           10301 non-null  object \n",
      " 2   person_ID              10301 non-null  object \n",
      " 3   region                 10301 non-null  object \n",
      " 4   strata                 10301 non-null  object \n",
      " 5   locality_type          10301 non-null  object \n",
      " 6   locality_size          10301 non-null  object \n",
      " 7   age_months             10260 non-null  float64\n",
      " 8   age_years              10301 non-null  float64\n",
      " 9   sex                    10301 non-null  object \n",
      " 10  BMI_SD                 10301 non-null  float64\n",
      " 11  label_cat              10301 non-null  object \n",
      " 12  label                  10301 non-null  float64\n",
      " 13  glucose_value          7370 non-null   float64\n",
      " 14  hba1c_value            7213 non-null   float64\n",
      " 15  albumin_value          7374 non-null   float64\n",
      " 16  hdl_chol_value         7374 non-null   float64\n",
      " 17  ldl_chol_value         5607 non-null   float64\n",
      " 18  creatinine_value       7370 non-null   float64\n",
      " 19  insulin_value          7374 non-null   float64\n",
      " 20  trig_value             7352 non-null   float64\n",
      " 21  days_intense_phy_act   7123 non-null   float64\n",
      " 22  days_moderate_phy_act  7122 non-null   float64\n",
      " 23  days_walking           7119 non-null   float64\n",
      " 24  hemoglobin_value       7347 non-null   float64\n",
      " 25  minutes_sitting        7102 non-null   float64\n",
      " 26  BMI_random_adult       7314 non-null   float64\n",
      " 27  av_waist               7021 non-null   float64\n",
      " 28  av_systolic_bp         6542 non-null   float64\n",
      " 29  av_dyastolic_bp        6542 non-null   float64\n",
      "dtypes: float64(21), object(9)\n",
      "memory usage: 2.4+ MB\n"
     ]
    }
   ],
   "source": [
    "m4_dataset = pd.read_csv(os.path.join(input_path, \"m4_unimodal.csv\"))\n",
    "m4_dataset.info()"
   ]
  },
  {
   "cell_type": "code",
   "execution_count": 8,
   "metadata": {},
   "outputs": [
    {
     "name": "stdout",
     "output_type": "stream",
     "text": [
      "<class 'pandas.core.frame.DataFrame'>\n",
      "RangeIndex: 8672 entries, 0 to 8671\n",
      "Data columns (total 38 columns):\n",
      " #   Column                  Non-Null Count  Dtype  \n",
      "---  ------                  --------------  -----  \n",
      " 0   house_ID                8672 non-null   object \n",
      " 1   household_ID            8672 non-null   object \n",
      " 2   person_ID               8672 non-null   object \n",
      " 3   region                  8672 non-null   object \n",
      " 4   strata                  8672 non-null   object \n",
      " 5   locality_type           8672 non-null   object \n",
      " 6   locality_size           8672 non-null   object \n",
      " 7   age_months              8672 non-null   int64  \n",
      " 8   age_years               8672 non-null   int64  \n",
      " 9   sex                     8672 non-null   object \n",
      " 10  BMI_SD                  8672 non-null   float64\n",
      " 11  label_cat               8672 non-null   object \n",
      " 12  label                   8672 non-null   int64  \n",
      " 13  age_nut_know_adult      8672 non-null   object \n",
      " 14  sex_nut_know_adult      8672 non-null   float64\n",
      " 15  nut_cont_knowledge      8672 non-null   float64\n",
      " 16  nut_inf_decision        7101 non-null   float64\n",
      " 17  buy_choice              8578 non-null   float64\n",
      " 18  time_choice             8551 non-null   float64\n",
      " 19  use_dng                 8672 non-null   float64\n",
      " 20  use_nut_seal            8672 non-null   float64\n",
      " 21  use_legends             8672 non-null   float64\n",
      " 22  use_nut_inf             8672 non-null   float64\n",
      " 23  use_ing_list            8672 non-null   float64\n",
      " 24  use_none                8672 non-null   float64\n",
      " 25  use_not_know            8672 non-null   float64\n",
      " 26  unhealthy_product       6880 non-null   float64\n",
      " 27  sodium_level            6627 non-null   float64\n",
      " 28  calories                6329 non-null   float64\n",
      " 29  product_A               2849 non-null   float64\n",
      " 30  product_B               2890 non-null   float64\n",
      " 31  product_C               2915 non-null   float64\n",
      " 32  energy_importance       7144 non-null   float64\n",
      " 33  sodium_importance       7144 non-null   float64\n",
      " 34  sugars_importance       7144 non-null   float64\n",
      " 35  fats_importance         7144 non-null   float64\n",
      " 36  sat_fats_importance     7144 non-null   float64\n",
      " 37  kinship_nut_know_adult  8668 non-null   object \n",
      "dtypes: float64(24), int64(3), object(11)\n",
      "memory usage: 2.5+ MB\n"
     ]
    }
   ],
   "source": [
    "m5_dataset = pd.read_csv(os.path.join(input_path, \"m5_unimodal.csv\"))\n",
    "m5_dataset.info()"
   ]
  },
  {
   "cell_type": "markdown",
   "metadata": {},
   "source": [
    "## Merge based on key"
   ]
  },
  {
   "cell_type": "code",
   "execution_count": 9,
   "metadata": {},
   "outputs": [],
   "source": [
    "# Import observation dataset\n",
    "sample_dataset = pd.read_csv(os.path.join(input_path_sample, \"sample_dataset.csv\"))"
   ]
  },
  {
   "cell_type": "code",
   "execution_count": 10,
   "metadata": {},
   "outputs": [
    {
     "data": {
      "text/plain": [
       "(10303, 229)"
      ]
     },
     "execution_count": 10,
     "metadata": {},
     "output_type": "execute_result"
    }
   ],
   "source": [
    "unimodal = sample_dataset.merge(\n",
    "    m1_dataset, left_on=\"person_ID\", right_on=\"person_ID\", how=\"left\", suffixes=('', '_remove')).merge(\n",
    "    m2_dataset,left_on=\"person_ID\", right_on=\"person_ID\", how=\"left\", suffixes=('', '_remove')).merge(\n",
    "        m3_dataset,left_on=\"person_ID\", right_on=\"person_ID\", how=\"left\", suffixes=('', '_remove')).merge(\n",
    "            m4_dataset,left_on=\"person_ID\", right_on=\"person_ID\", how=\"left\", suffixes=('', '_remove')).merge(\n",
    "                m5_dataset,left_on=\"person_ID\", right_on=\"person_ID\", how=\"left\", suffixes=('', '_remove'))\n",
    "    \n",
    "unimodal.shape"
   ]
  },
  {
   "cell_type": "code",
   "execution_count": 11,
   "metadata": {},
   "outputs": [
    {
     "data": {
      "text/plain": [
       "Index(['house_ID', 'household_ID', 'person_ID', 'region', 'strata',\n",
       "       'locality_type', 'locality_size', 'age_months', 'age_years', 'sex',\n",
       "       ...\n",
       "       'calories', 'product_A', 'product_B', 'product_C', 'energy_importance',\n",
       "       'sodium_importance', 'sugars_importance', 'fats_importance',\n",
       "       'sat_fats_importance', 'kinship_nut_know_adult'],\n",
       "      dtype='object', length=169)"
      ]
     },
     "execution_count": 11,
     "metadata": {},
     "output_type": "execute_result"
    }
   ],
   "source": [
    "unimodal.drop([i for i in unimodal.columns if 'remove' in i],\n",
    "               axis=1, inplace=True)\n",
    "unimodal.columns"
   ]
  },
  {
   "cell_type": "code",
   "execution_count": 12,
   "metadata": {},
   "outputs": [
    {
     "data": {
      "text/plain": [
       "['house_ID',\n",
       " 'household_ID',\n",
       " 'person_ID',\n",
       " 'region',\n",
       " 'strata',\n",
       " 'locality_type',\n",
       " 'locality_size',\n",
       " 'age_months',\n",
       " 'age_years',\n",
       " 'sex',\n",
       " 'BMI_SD',\n",
       " 'label_cat',\n",
       " 'label',\n",
       " 'hired_aid',\n",
       " 'has_TV',\n",
       " 'has_paid_TV',\n",
       " 'has_radio',\n",
       " 'has_audio_system',\n",
       " 'has_computer',\n",
       " 'has_cell_phone',\n",
       " 'has_internet',\n",
       " 'has_phone',\n",
       " 'has_iron',\n",
       " 'has_blender',\n",
       " 'has_refrigerator',\n",
       " 'has_gas_stove',\n",
       " 'has_other_stove',\n",
       " 'has_wash_dry',\n",
       " 'has_microwave',\n",
       " 'cook_sleep',\n",
       " 'food_expense',\n",
       " 'cooking_room',\n",
       " 'result_elcsa',\n",
       " 'exp_fruits',\n",
       " 'exp_vegetables',\n",
       " 'exp_corn',\n",
       " 'exp_bread',\n",
       " 'exp_grains',\n",
       " 'exp_oil_sugar',\n",
       " 'exp_meat',\n",
       " 'exp_dairy',\n",
       " 'exp_eggs',\n",
       " 'exp_snacks',\n",
       " 'exp_fast_food',\n",
       " 'exp_bottled_water',\n",
       " 'exp_soda',\n",
       " 'exp_alcohol',\n",
       " 'exp_tobacco',\n",
       " 'exp_not_homemade',\n",
       " 'monthly_income',\n",
       " 'total_food_exp',\n",
       " 'total_medical_exp',\n",
       " 'ob_diag',\n",
       " 'dm_diag',\n",
       " 'hbp_diag',\n",
       " 'cvd_ha_hi',\n",
       " 'cvd_chest_angina',\n",
       " 'cvd_heart_failure',\n",
       " 'kd_diag_uti',\n",
       " 'kd_diag_k_stones',\n",
       " 'kd_diag_renal_fail',\n",
       " 'chol_diag',\n",
       " 'trig_diag',\n",
       " 'fmh_father_dm',\n",
       " 'fmh_father_hbp',\n",
       " 'fmh_father_hi',\n",
       " 'fmh_father_chol_tri',\n",
       " 'fmh_mother_dm',\n",
       " 'fmh_mother_hbp',\n",
       " 'fmh_mother_hi',\n",
       " 'fmh_mother_chol_tri',\n",
       " 'fmh_sibling_dm',\n",
       " 'fmh_sibling_hbp',\n",
       " 'fmh_sibling_hi',\n",
       " 'fmh_sibling_chol_tri',\n",
       " 'violence',\n",
       " 'present_smoker',\n",
       " 'past_smoker',\n",
       " 'sight_aid',\n",
       " 'hearing_aid',\n",
       " 'walk_difficulty',\n",
       " 'memory_difficulty',\n",
       " 'self_care_difficulty',\n",
       " 'communication_difficulty',\n",
       " 'sex_health_info_adult',\n",
       " 'hc_inst_IMSS',\n",
       " 'hc_inst_ISSSTE',\n",
       " 'hc_inst_ISSSTE_st',\n",
       " 'hc_inst_PEMEX',\n",
       " 'hc_inst_Defensa',\n",
       " 'hc_inst_Marina',\n",
       " 'hc_inst_SSA',\n",
       " 'hc_inst_IMSS_Pro',\n",
       " 'hc_inst_pharma',\n",
       " 'hc_inst_private',\n",
       " 'hc_inst_selfmed',\n",
       " 'hc_inst_other',\n",
       " 'hc_inst_doesnotgo',\n",
       " 'hc_inst_doesnotknow',\n",
       " 'speak_ind_lang',\n",
       " 'attend_school',\n",
       " 'grade_achieved',\n",
       " 'marital_status',\n",
       " 'worked_hours',\n",
       " 'diff_use_legs',\n",
       " 'diff_see',\n",
       " 'diff_use_arms',\n",
       " 'diff_learn',\n",
       " 'diff_hear',\n",
       " 'diff_self_care',\n",
       " 'diff_speak',\n",
       " 'diff_daily_act',\n",
       " 'fruit_intake',\n",
       " 'vegetable_intake',\n",
       " 'legumes_intake',\n",
       " 'meat_intake',\n",
       " 'proc_meat_intake',\n",
       " 'fast_food_intake',\n",
       " 'sweets_intake',\n",
       " 'sug_cereal_intake',\n",
       " 'nd_sug_bev_intake',\n",
       " 'water_intake',\n",
       " 'dairy_sug_bev_intake',\n",
       " 'dairy_intake',\n",
       " 'egg_intake',\n",
       " 'kinship_health_info_adult',\n",
       " 'age_group_health_info_adult',\n",
       " 'glucose_value',\n",
       " 'hba1c_value',\n",
       " 'albumin_value',\n",
       " 'hdl_chol_value',\n",
       " 'ldl_chol_value',\n",
       " 'creatinine_value',\n",
       " 'insulin_value',\n",
       " 'trig_value',\n",
       " 'days_intense_phy_act',\n",
       " 'days_moderate_phy_act',\n",
       " 'days_walking',\n",
       " 'hemoglobin_value',\n",
       " 'minutes_sitting',\n",
       " 'BMI_random_adult',\n",
       " 'av_waist',\n",
       " 'av_systolic_bp',\n",
       " 'av_dyastolic_bp',\n",
       " 'age_nut_know_adult',\n",
       " 'sex_nut_know_adult',\n",
       " 'nut_cont_knowledge',\n",
       " 'nut_inf_decision',\n",
       " 'buy_choice',\n",
       " 'time_choice',\n",
       " 'use_dng',\n",
       " 'use_nut_seal',\n",
       " 'use_legends',\n",
       " 'use_nut_inf',\n",
       " 'use_ing_list',\n",
       " 'use_none',\n",
       " 'use_not_know',\n",
       " 'unhealthy_product',\n",
       " 'sodium_level',\n",
       " 'calories',\n",
       " 'product_A',\n",
       " 'product_B',\n",
       " 'product_C',\n",
       " 'energy_importance',\n",
       " 'sodium_importance',\n",
       " 'sugars_importance',\n",
       " 'fats_importance',\n",
       " 'sat_fats_importance',\n",
       " 'kinship_nut_know_adult']"
      ]
     },
     "execution_count": 12,
     "metadata": {},
     "output_type": "execute_result"
    }
   ],
   "source": [
    "unimodal.columns.tolist()"
   ]
  },
  {
   "cell_type": "markdown",
   "metadata": {},
   "source": [
    "## Export dataset"
   ]
  },
  {
   "cell_type": "code",
   "execution_count": 13,
   "metadata": {},
   "outputs": [],
   "source": [
    "#Export dataset as a csv\n",
    "unimodal.to_csv(os.path.join(output_path,'unimodal_feature_extraction.csv'), index=None, header=True)"
   ]
  }
 ],
 "metadata": {
  "interpreter": {
   "hash": "13411cb057e0d9c179bd3d65bdeeedc371d923faa4873b8c60e49aab85d5bd78"
  },
  "kernelspec": {
   "display_name": "Python 3.8.0 64-bit",
   "language": "python",
   "name": "python3"
  },
  "language_info": {
   "codemirror_mode": {
    "name": "ipython",
    "version": 3
   },
   "file_extension": ".py",
   "mimetype": "text/x-python",
   "name": "python",
   "nbconvert_exporter": "python",
   "pygments_lexer": "ipython3",
   "version": "3.8.0"
  },
  "orig_nbformat": 4
 },
 "nbformat": 4,
 "nbformat_minor": 2
}
