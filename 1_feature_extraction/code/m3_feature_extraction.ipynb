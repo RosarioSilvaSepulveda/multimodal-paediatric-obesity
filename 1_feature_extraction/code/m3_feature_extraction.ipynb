{
 "cells": [
  {
   "cell_type": "markdown",
   "metadata": {},
   "source": [
    "# Feature extraction\n",
    "## Modality 3: Health information\n",
    "Each modality is a combination of features from the different CSV that conform the database. This modality's features should include the following:\n",
    "- CS_RESIDENTES\n",
    "    - P3_5: relationship\n",
    "    - P3_6, P3_6_1: place_birth\n",
    "    - P3_9_01: hc_inst_IMSS\n",
    "    - P3_9_02: hc_inst_ISSSTE\n",
    "    - P3_9_03: hc_inst_ISSSTE_st\n",
    "    - P3_9_04: hc_inst_PEMEX\n",
    "    - P3_9_05: hc_inst_Defensa\n",
    "    - P3_9_06: hc_inst_Marina\n",
    "    - P3_9_07: hc_inst_SSA\n",
    "    - P3_9_08: hc_inst_IMSS_Pro\n",
    "    - P3_9_09: hc_inst_pharma\n",
    "    - P3_9_10: hc_inst_private\n",
    "    - P3_9_11: hc_inst_selfmed\n",
    "    - P3_9_77: hc_inst_other\n",
    "    - P3_9_12: hc_inst_doesnotgo\n",
    "    - P3_9_99: hc_inst_doesnotknow\n",
    "    - P3_11: speak_ind_lang\n",
    "    - P3_12: speak_spanish\n",
    "    - P3_13: attend_school\n",
    "    - NIVEL: grade_achieved\n",
    "    - P3_18: read_write\n",
    "    - P3_19: marital_status\n",
    "    - P3_25: worked_hours\n",
    "    - P3_26_1: income_period\n",
    "    - P3_26_2: income\n",
    "    - P4_1_1: diff_use_legs\n",
    "    - P4_1_2: diff_see\n",
    "    - P4_1_3: diff_use_arms\n",
    "    - P4_1_4: diff_learn\n",
    "    - P4_1_5: diff_hear\n",
    "    - P4_1_6: diff_self_care\n",
    "    - P4_1_7: diff_speak\n",
    "    - P4_1_8: diff_daily_act"
   ]
  },
  {
   "cell_type": "markdown",
   "metadata": {},
   "source": [
    "- CS_SERV_SALUD\n",
    "    - P8_1_1: care_costs\n",
    "    - P8_1_2: treat_cost\n",
    "    - P8_1_3: meds_cost\n",
    "    - P8_1_4: care_travel\n",
    "    - P8_1_5: time_diagnosis\n",
    "    - P8_5_1: hc_pers_know_patient\n",
    "    - P8_5_2: hc_pers_questions\n",
    "    - P8_5_3: hc_pers_time\n",
    "    - P8_5_4: hc_pers_shared_dec\n",
    "    - P8_5_5: hc_pers_explain\n",
    "    - P8_5_6: hc_pers_coordination\n",
    "    - P8_6: eval_care\n",
    "    - P8_7: specialist_care\n",
    "    - P8_8_1: medication_check"
   ]
  },
  {
   "cell_type": "markdown",
   "metadata": {},
   "source": [
    "- CS_ADULTOS\n",
    "    - P1_1: ob_diag\n",
    "    - P3_1: dm_diag\n",
    "    - P4_1: hbp_diag\n",
    "    - P5_2_1: cvd_ha_hi\n",
    "    - P5_2_2: cvd_chest_angina\n",
    "    - P5_2_3: cvd_heart_failure\n",
    "    - P5_6: cvd_cerebral_inf_emb\n",
    "    - P6_1_1: kd_diag_uti\n",
    "    - P6_1_2: kd_diag_k_stones\n",
    "    - P6_1_3: kd_diag_renal_fail\n",
    "    - P6_4: chol_diag\n",
    "    - P6_6: trig_diag\n",
    "    - P7_1_1: fmh_father_dm\n",
    "    - P7_1_2: fmh_father_hbp\n",
    "    - P7_1_3: fmh_father_hi\n",
    "    - P7_5_1: fmh_father_chol_tri\n",
    "    - P7_1_2: fmh_mother_dm\n",
    "    - P7_2_2: fmh_mother_hbp\n",
    "    - P7_3_2: fmh_mother_hi\n",
    "    - P7_5_2: fmh_mother_chol_tri\n",
    "    - P7_1_3: fmh_sibling_dm\n",
    "    - P7_2_3: fmh_sibling_hbp\n",
    "    - P7_3_3: fmh_sibling_hi\n",
    "    - P7_5_3: fmh_sibling_chol_tri\n",
    "    - P12_1: violence\n",
    "    - P13_2: present_smoker\n",
    "    - P13_4: past_smoker\n",
    "    - P13_2: present_e_smoker\n",
    "    - P3_11: present_alc_drinker\n",
    "    - P13_12_1: freq_alc_glasses\n",
    "    - P14_1: sight_aid\n",
    "    - P14_2: hearing_aid\n",
    "    - P14_5: walk_difficulty\n",
    "    - P14_6: memory_difficulty\n",
    "    - P14_7: self_care_difficulty\n",
    "    - P14_6: communication_difficulty"
   ]
  },
  {
   "cell_type": "markdown",
   "metadata": {},
   "source": [
    "- CN_FCA_ADU\n",
    "    - FRUTAS: fruit_intake\n",
    "    - VERDURAS: vegetable_intake\n",
    "    - LEGUMINOSAS: legumes_intake\n",
    "    - CARNES: meat_intake\n",
    "    - CARNES_PROC: proc_meat_intake\n",
    "    - COMIDA_RAP: fast_food_intake\n",
    "    - DULCES: sweets_intake\n",
    "    - CEREALES_DUL: sug_cereal_intake\n",
    "    - BEB_NOLAC_ENDUL: nd_sug_bev_intake\n",
    "    - AGUA: water_intake\n",
    "    - BEB_LAC_ENDUL: dairy_sug_bev_intake\n",
    "    - LACTEOS: dairy_intake\n",
    "    - HUEVO: egg_intake"
   ]
  },
  {
   "cell_type": "markdown",
   "metadata": {},
   "source": [
    "## Setup"
   ]
  },
  {
   "cell_type": "markdown",
   "metadata": {},
   "source": [
    "### Libraries"
   ]
  },
  {
   "cell_type": "code",
   "execution_count": 1,
   "metadata": {},
   "outputs": [],
   "source": [
    "# Import libraries\n",
    "import os\n",
    "import pandas as pd\n",
    "import numpy as np"
   ]
  },
  {
   "cell_type": "markdown",
   "metadata": {},
   "source": [
    "### Paths"
   ]
  },
  {
   "cell_type": "code",
   "execution_count": 2,
   "metadata": {},
   "outputs": [],
   "source": [
    "input_path = '../../0_source_csv/ensanut/'\n",
    "input_path_sample = '../output'\n",
    "\n",
    "output_path = '../output/'\n",
    "\n",
    "# Global configuration path\n",
    "glob_conf_path = '../../config/global_config_paper.py'"
   ]
  },
  {
   "cell_type": "markdown",
   "metadata": {},
   "source": [
    "### Set local variables"
   ]
  },
  {
   "cell_type": "code",
   "execution_count": 3,
   "metadata": {},
   "outputs": [],
   "source": [
    "exec(open(glob_conf_path).read())"
   ]
  },
  {
   "cell_type": "markdown",
   "metadata": {},
   "source": [
    "## Extract features"
   ]
  },
  {
   "cell_type": "code",
   "execution_count": 4,
   "metadata": {},
   "outputs": [
    {
     "name": "stdout",
     "output_type": "stream",
     "text": [
      "<class 'pandas.core.frame.DataFrame'>\n",
      "RangeIndex: 158044 entries, 0 to 158043\n",
      "Data columns (total 47 columns):\n",
      " #   Column                 Non-Null Count   Dtype  \n",
      "---  ------                 --------------   -----  \n",
      " 0   age_health_info_adult  158044 non-null  int64  \n",
      " 1   sex_health_info_adult  158044 non-null  int64  \n",
      " 2   kinship                158044 non-null  int64  \n",
      " 3   hc_inst_IMSS           158044 non-null  int64  \n",
      " 4   hc_inst_ISSSTE         158044 non-null  int64  \n",
      " 5   hc_inst_ISSSTE_st      158044 non-null  int64  \n",
      " 6   hc_inst_PEMEX          158044 non-null  int64  \n",
      " 7   hc_inst_Defensa        158044 non-null  int64  \n",
      " 8   hc_inst_Marina         158044 non-null  int64  \n",
      " 9   hc_inst_SSA            158044 non-null  int64  \n",
      " 10  hc_inst_IMSS_Pro       158044 non-null  int64  \n",
      " 11  hc_inst_pharma         158044 non-null  int64  \n",
      " 12  hc_inst_private        158044 non-null  int64  \n",
      " 13  hc_inst_selfmed        158044 non-null  int64  \n",
      " 14  hc_inst_other          158044 non-null  int64  \n",
      " 15  hc_inst_doesnotgo      158044 non-null  int64  \n",
      " 16  hc_inst_doesnotknow    158044 non-null  int64  \n",
      " 17  hc_afill_IMSS          158044 non-null  int64  \n",
      " 18  hc_afill_ISSSTE        158044 non-null  int64  \n",
      " 19  hc_afill_ISSSTE_st     158044 non-null  int64  \n",
      " 20  hc_afill_PEMEX         158044 non-null  int64  \n",
      " 21  hc_afill_Defensa       158044 non-null  int64  \n",
      " 22  hc_afill_Marina        158044 non-null  int64  \n",
      " 23  hc_afill_SSA           158044 non-null  int64  \n",
      " 24  hc_afill_IMSS_Pro      158044 non-null  int64  \n",
      " 25  hc_afill_private       158044 non-null  int64  \n",
      " 26  hc_afill_other         158044 non-null  int64  \n",
      " 27  hc_afill_none          158044 non-null  int64  \n",
      " 28  hc_afill_notknow       158044 non-null  int64  \n",
      " 29  speak_ind_lang         150960 non-null  float64\n",
      " 30  speak_spanish          9562 non-null    float64\n",
      " 31  attend_school          150960 non-null  float64\n",
      " 32  grade_achieved         150960 non-null  float64\n",
      " 33  read_write             58200 non-null   float64\n",
      " 34  marital_status         125516 non-null  float64\n",
      " 35  worked_hours           72133 non-null   float64\n",
      " 36  diff_use_legs          142910 non-null  float64\n",
      " 37  diff_see               142910 non-null  float64\n",
      " 38  diff_use_arms          142910 non-null  float64\n",
      " 39  diff_learn             142910 non-null  float64\n",
      " 40  diff_hear              142910 non-null  float64\n",
      " 41  diff_self_care         142910 non-null  float64\n",
      " 42  diff_speak             142910 non-null  float64\n",
      " 43  diff_daily_act         142910 non-null  float64\n",
      " 44  house_ID               158044 non-null  object \n",
      " 45  household_ID           158044 non-null  object \n",
      " 46  person_ID              158044 non-null  object \n",
      "dtypes: float64(15), int64(29), object(3)\n",
      "memory usage: 56.7+ MB\n"
     ]
    }
   ],
   "source": [
    "# Residents survey\n",
    "residents_dataset = pd.read_csv(os.path.join(input_path, \"CS_RESIDENTES.csv\"))\n",
    "\n",
    "residents_dataset = residents_dataset[[\"UPM\",\"VIV_SEL\",\"HOGAR\",\"NUMREN\",\"EDAD\",\"SEXO\",\"P3_5\",\"P3_9_01\",\"P3_9_02\",\"P3_9_03\",\n",
    "                                       \"P3_9_04\",\"P3_9_05\",\"P3_9_06\",\"P3_9_07\",\"P3_9_08\",\"P3_9_09\",\"P3_9_10\",\"P3_9_11\",\n",
    "                                       \"P3_9_77\",\"P3_9_12\",\"P3_9_99\",\"P3_10_01\",\"P3_10_02\",\"P3_10_03\",\"P3_10_04\",\"P3_10_05\",\n",
    "                                       \"P3_10_06\",\"P3_10_07\",\"P3_10_08\",\"P3_10_09\",\"P3_10_10\",\"P3_10_11\",\"P3_10_99\",\"P3_11\",\n",
    "                                       \"P3_12\",\"P3_13\",\"NIVEL\",\"P3_18\",\"P3_19\",\"P3_25\",\"P4_1_1\",\"P4_1_2\",\n",
    "                                       \"P4_1_3\",\"P4_1_4\",\"P4_1_5\",\"P4_1_6\",\"P4_1_7\",\"P4_1_8\"]]\n",
    "\n",
    "residents_dataset = residents_dataset.rename(columns={\"EDAD\":\"age_health_info_adult\",\n",
    "                                                      \"SEXO\":\"sex_health_info_adult\",\n",
    "                                                      \"P3_5\": \"kinship\",\n",
    "                                                      \"P3_9_01\": \"hc_inst_IMSS\",\n",
    "                                                      \"P3_9_02\": \"hc_inst_ISSSTE\",\n",
    "                                                      \"P3_9_03\": \"hc_inst_ISSSTE_st\",\n",
    "                                                      \"P3_9_04\": \"hc_inst_PEMEX\",\n",
    "                                                      \"P3_9_05\": \"hc_inst_Defensa\",\n",
    "                                                      \"P3_9_06\": \"hc_inst_Marina\",\n",
    "                                                      \"P3_9_06\": \"hc_inst_Marina\",\n",
    "                                                      \"P3_9_07\": \"hc_inst_SSA\",\n",
    "                                                      \"P3_9_08\": \"hc_inst_IMSS_Pro\",\n",
    "                                                      \"P3_9_09\": \"hc_inst_pharma\",\n",
    "                                                      \"P3_9_10\": \"hc_inst_private\",\n",
    "                                                      \"P3_9_11\": \"hc_inst_selfmed\",\n",
    "                                                      \"P3_9_77\": \"hc_inst_other\",\n",
    "                                                      \"P3_9_12\": \"hc_inst_doesnotgo\",\n",
    "                                                      \"P3_9_99\": \"hc_inst_doesnotknow\",\n",
    "                                                      \"P3_10_01\": \"hc_afill_IMSS\",\n",
    "                                                      \"P3_10_02\": \"hc_afill_ISSSTE\",\n",
    "                                                      \"P3_10_03\": \"hc_afill_ISSSTE_st\",\n",
    "                                                      \"P3_10_04\": \"hc_afill_PEMEX\",\n",
    "                                                      \"P3_10_05\": \"hc_afill_Defensa\",\n",
    "                                                      \"P3_10_06\": \"hc_afill_Marina\",\n",
    "                                                      \"P3_10_07\": \"hc_afill_SSA\",\n",
    "                                                      \"P3_10_08\": \"hc_afill_IMSS_Pro\",\n",
    "                                                      \"P3_10_09\": \"hc_afill_private\",\n",
    "                                                      \"P3_10_10\": \"hc_afill_other\",\n",
    "                                                      \"P3_10_11\": \"hc_afill_none\",\n",
    "                                                      \"P3_10_99\": \"hc_afill_notknow\",\n",
    "                                                      \"P3_11\": \"speak_ind_lang\",\n",
    "                                                      \"P3_12\": \"speak_spanish\",\n",
    "                                                      \"P3_13\": \"attend_school\",\n",
    "                                                      \"NIVEL\": \"grade_achieved\",\n",
    "                                                      \"P3_18\": \"read_write\",\n",
    "                                                      \"P3_19\": \"marital_status\",\n",
    "                                                      \"P3_25\": \"worked_hours\",\n",
    "                                                      \"P4_1_1\": \"diff_use_legs\",\n",
    "                                                      \"P4_1_2\": \"diff_see\",\n",
    "                                                      \"P4_1_3\": \"diff_use_arms\",\n",
    "                                                      \"P4_1_4\": \"diff_learn\",\n",
    "                                                      \"P4_1_5\": \"diff_hear\",\n",
    "                                                      \"P4_1_6\": \"diff_self_care\",\n",
    "                                                      \"P4_1_7\": \"diff_speak\",\n",
    "                                                      \"P4_1_8\": \"diff_daily_act\"})\n",
    "\n",
    "# Add column with primary keys for house and household\n",
    "residents_dataset[\"house_ID\"] = residents_dataset[\"UPM\"].astype(str)+'_'+residents_dataset[\"VIV_SEL\"].astype(str)\n",
    "residents_dataset[\"household_ID\"] = residents_dataset[\"UPM\"].astype(str)+'_'+residents_dataset[\"VIV_SEL\"].astype(str)+'_'+residents_dataset[\"HOGAR\"].astype(str)\n",
    "residents_dataset[\"person_ID\"] = residents_dataset[\"UPM\"].astype(str)+'_'+residents_dataset[\"VIV_SEL\"].astype(str)+'_'+residents_dataset[\"HOGAR\"].astype(str)+'_'+residents_dataset[\"NUMREN\"].astype(str)\n",
    "\n",
    "# Delete unnecesary columns \n",
    "del residents_dataset[\"UPM\"]\n",
    "del residents_dataset[\"VIV_SEL\"]\n",
    "del residents_dataset[\"HOGAR\"]\n",
    "del residents_dataset[\"NUMREN\"]\n",
    "\n",
    "residents_dataset.info()"
   ]
  },
  {
   "cell_type": "code",
   "execution_count": 5,
   "metadata": {},
   "outputs": [
    {
     "name": "stdout",
     "output_type": "stream",
     "text": [
      "<class 'pandas.core.frame.DataFrame'>\n",
      "RangeIndex: 8757 entries, 0 to 8756\n",
      "Data columns (total 14 columns):\n",
      " #   Column                Non-Null Count  Dtype \n",
      "---  ------                --------------  ----- \n",
      " 0   care_costs            8757 non-null   int64 \n",
      " 1   treat_cost            8757 non-null   int64 \n",
      " 2   meds_cost             8757 non-null   int64 \n",
      " 3   care_travel           8757 non-null   int64 \n",
      " 4   time_diagnosis        8757 non-null   int64 \n",
      " 5   hc_pers_know_patient  8757 non-null   int64 \n",
      " 6   hc_pers_questions     8757 non-null   int64 \n",
      " 7   hc_pers_time          8757 non-null   int64 \n",
      " 8   hc_pers_shared_dec    8757 non-null   int64 \n",
      " 9   hc_pers_explain       8757 non-null   int64 \n",
      " 10  hc_pers_coordination  8757 non-null   int64 \n",
      " 11  house_ID              8757 non-null   object\n",
      " 12  household_ID          8757 non-null   object\n",
      " 13  person_ID             8757 non-null   object\n",
      "dtypes: int64(11), object(3)\n",
      "memory usage: 957.9+ KB\n"
     ]
    }
   ],
   "source": [
    "# Health services survey\n",
    "health_services_dataset = pd.read_csv(os.path.join(input_path, \"CS_SERV_SALUD.csv\"))\n",
    "\n",
    "health_services_dataset = health_services_dataset[[\"UPM\",\"VIV_SEL\",\"HOGAR\",\"NUMREN\",\"P8_1_1\",\"P8_1_2\",\"P8_1_3\",\"P8_1_4\",\"P8_1_5\",\"P8_5_1\",\n",
    "                                       \"P8_5_2\",\"P8_5_3\",\"P8_5_4\",\"P8_5_5\",\"P8_5_6\"]]\n",
    "\n",
    "health_services_dataset = health_services_dataset.rename(columns={\"P8_1_1\": \"care_costs\",\n",
    "                                                      \"P8_1_2\": \"treat_cost\",\n",
    "                                                      \"P8_1_3\": \"meds_cost\",\n",
    "                                                      \"P8_1_4\": \"care_travel\",\n",
    "                                                      \"P8_1_5\": \"time_diagnosis\",\n",
    "                                                      \"P8_5_1\": \"hc_pers_know_patient\",\n",
    "                                                      \"P8_5_2\": \"hc_pers_questions\",\n",
    "                                                      \"P8_5_3\": \"hc_pers_time\",\n",
    "                                                      \"P8_5_4\": \"hc_pers_shared_dec\",\n",
    "                                                      \"P8_5_5\": \"hc_pers_explain\",\n",
    "                                                      \"P8_5_6\": \"hc_pers_coordination\",\n",
    "                                                      \"P8_6\": \"eval_care\",\n",
    "                                                      \"P8_7\": \"specialist_care\",\n",
    "                                                      \"P8_8_1\": \"medication_check\"})\n",
    "                                                      \n",
    "\n",
    "# Add column with primary keys for house and household\n",
    "health_services_dataset[\"house_ID\"] = health_services_dataset[\"UPM\"].astype(str)+'_'+health_services_dataset[\"VIV_SEL\"].astype(str)\n",
    "health_services_dataset[\"household_ID\"] = health_services_dataset[\"UPM\"].astype(str)+'_'+health_services_dataset[\"VIV_SEL\"].astype(str)+'_'+health_services_dataset[\"HOGAR\"].astype(str)\n",
    "health_services_dataset[\"person_ID\"] = health_services_dataset[\"UPM\"].astype(str)+'_'+health_services_dataset[\"VIV_SEL\"].astype(str)+'_'+health_services_dataset[\"HOGAR\"].astype(str)+'_'+health_services_dataset[\"NUMREN\"].astype(str)\n",
    "\n",
    "# Delete unnecesary columns \n",
    "del health_services_dataset[\"UPM\"]\n",
    "del health_services_dataset[\"VIV_SEL\"]\n",
    "del health_services_dataset[\"HOGAR\"]\n",
    "del health_services_dataset[\"NUMREN\"]\n",
    "\n",
    "health_services_dataset.info()"
   ]
  },
  {
   "cell_type": "code",
   "execution_count": 6,
   "metadata": {},
   "outputs": [
    {
     "name": "stdout",
     "output_type": "stream",
     "text": [
      "<class 'pandas.core.frame.DataFrame'>\n",
      "RangeIndex: 43070 entries, 0 to 43069\n",
      "Data columns (total 37 columns):\n",
      " #   Column                    Non-Null Count  Dtype  \n",
      "---  ------                    --------------  -----  \n",
      " 0   ob_diag                   43070 non-null  int64  \n",
      " 1   dm_diag                   43070 non-null  int64  \n",
      " 2   hbp_diag                  43070 non-null  int64  \n",
      " 3   cvd_ha_hi                 43070 non-null  int64  \n",
      " 4   cvd_chest_angina          43070 non-null  int64  \n",
      " 5   cvd_heart_failure         43070 non-null  int64  \n",
      " 6   cvd_cerebral_inf_emb      602 non-null    float64\n",
      " 7   kd_diag_uti               43070 non-null  int64  \n",
      " 8   kd_diag_k_stones          43070 non-null  int64  \n",
      " 9   kd_diag_renal_fail        43070 non-null  int64  \n",
      " 10  chol_diag                 43070 non-null  int64  \n",
      " 11  trig_diag                 43070 non-null  int64  \n",
      " 12  fmh_father_dm             42436 non-null  float64\n",
      " 13  fmh_father_hbp            42436 non-null  float64\n",
      " 14  fmh_father_hi             42436 non-null  float64\n",
      " 15  fmh_father_chol_tri       42436 non-null  float64\n",
      " 16  fmh_mother_dm             42874 non-null  float64\n",
      " 17  fmh_mother_hbp            42874 non-null  float64\n",
      " 18  fmh_mother_hi             42862 non-null  float64\n",
      " 19  fmh_mother_chol_tri       42874 non-null  float64\n",
      " 20  fmh_sibling_dm            42479 non-null  float64\n",
      " 21  fmh_sibling_hbp           42479 non-null  float64\n",
      " 22  fmh_sibling_hi            42479 non-null  float64\n",
      " 23  fmh_sibling_chol_tri      42479 non-null  float64\n",
      " 24  violence                  43070 non-null  int64  \n",
      " 25  present_smoker            43070 non-null  int64  \n",
      " 26  past_smoker               35399 non-null  float64\n",
      " 27  present_alc_drinker       869 non-null    float64\n",
      " 28  sight_aid                 43070 non-null  int64  \n",
      " 29  hearing_aid               43070 non-null  int64  \n",
      " 30  walk_difficulty           43070 non-null  int64  \n",
      " 31  memory_difficulty         43070 non-null  int64  \n",
      " 32  self_care_difficulty      43070 non-null  int64  \n",
      " 33  communication_difficulty  43070 non-null  int64  \n",
      " 34  house_ID                  43070 non-null  object \n",
      " 35  household_ID              43070 non-null  object \n",
      " 36  person_ID                 43070 non-null  object \n",
      "dtypes: float64(15), int64(19), object(3)\n",
      "memory usage: 12.2+ MB\n"
     ]
    }
   ],
   "source": [
    "# Adulth health survey\n",
    "adult_survey_dataset = pd.read_csv(os.path.join(input_path, \"CS_ADULTOS.csv\"))\n",
    "\n",
    "adult_survey_dataset = adult_survey_dataset[[\"UPM\",\"VIV_SEL\",\"HOGAR\",\"NUMREN\",\"P1_1\", \"P3_1\",\"P4_1\",\"P5_2_1\",\"P5_2_2\",\"P5_2_3\",\n",
    "                                             \"P5_6\",\"P6_1_1\",\"P6_1_2\",\"P6_1_3\",\"P6_4\",\"P6_6\",\"P7_1_1\",\"P7_2_1\",\"P7_3_1\",\n",
    "                                              \"P7_5_1\",\"P7_1_2\",\"P7_2_2\",\"P7_3_2\",\"P7_5_2\",\"P7_1_3\",\"P7_2_3\",\"P7_3_3\",\"P7_5_3\",\n",
    "                                              \"P12_1\",\"P13_2\",\"P13_4\",\"P3_11\",\"P14_1\",\"P14_2\",\"P14_5\",\"P14_6\",\"P14_7\",\"P14_8\"]]\n",
    "\n",
    "adult_survey_dataset = adult_survey_dataset.rename(columns={\"P1_1\": \"ob_diag\",\n",
    "                                                                  \"P3_1\": \"dm_diag\",\n",
    "                                                                  \"P4_1\": \"hbp_diag\",\n",
    "                                                                  \"P5_2_1\": \"cvd_ha_hi\",\n",
    "                                                                  \"P5_2_2\": \"cvd_chest_angina\",\n",
    "                                                                  \"P5_2_3\": \"cvd_heart_failure\",\n",
    "                                                                  \"P5_6\": \"cvd_cerebral_inf_emb\",\n",
    "                                                                  \"P6_1_1\": \"kd_diag_uti\",\n",
    "                                                                  \"P6_1_2\": \"kd_diag_k_stones\",\n",
    "                                                                  \"P6_1_3\": \"kd_diag_renal_fail\",\n",
    "                                                                  \"P6_4\": \"chol_diag\",\n",
    "                                                                  \"P6_6\": \"trig_diag\",\n",
    "                                                                  \"P7_1_1\": \"fmh_father_dm\",\n",
    "                                                                  \"P7_2_1\": \"fmh_father_hbp\",\n",
    "                                                                  \"P7_3_1\": \"fmh_father_hi\",\n",
    "                                                                  \"P7_5_1\": \"fmh_father_chol_tri\",\n",
    "                                                                  \"P7_1_2\": \"fmh_mother_dm\",\n",
    "                                                                  \"P7_2_2\": \"fmh_mother_hbp\",\n",
    "                                                                  \"P7_3_2\": \"fmh_mother_hi\",\n",
    "                                                                  \"P7_5_2\": \"fmh_mother_chol_tri\",\n",
    "                                                                  \"P7_1_3\": \"fmh_sibling_dm\",\n",
    "                                                                  \"P7_2_3\": \"fmh_sibling_hbp\",\n",
    "                                                                  \"P7_3_3\": \"fmh_sibling_hi\",\n",
    "                                                                  \"P7_5_3\": \"fmh_sibling_chol_tri\",\n",
    "                                                                  \"P12_1\": \"violence\",\n",
    "                                                                  \"P13_2\": \"present_smoker\",\n",
    "                                                                  \"P13_4\": \"past_smoker\",\n",
    "                                                                  \"P3_11\": \"present_alc_drinker\",\n",
    "                                                                  \"P14_1\": \"sight_aid\",\n",
    "                                                                  \"P14_2\": \"hearing_aid\",\n",
    "                                                                  \"P14_5\": \"walk_difficulty\",\n",
    "                                                                  \"P14_6\": \"memory_difficulty\",\n",
    "                                                                  \"P14_7\": \"self_care_difficulty\",\n",
    "                                                                  \"P14_8\": \"communication_difficulty\"})\n",
    "\n",
    "# Add column with primary keys for house and household\n",
    "adult_survey_dataset[\"house_ID\"] = adult_survey_dataset[\"UPM\"].astype(str)+'_'+adult_survey_dataset[\"VIV_SEL\"].astype(str)\n",
    "adult_survey_dataset[\"household_ID\"] = adult_survey_dataset[\"UPM\"].astype(str)+'_'+adult_survey_dataset[\"VIV_SEL\"].astype(str)+'_'+adult_survey_dataset[\"HOGAR\"].astype(str)\n",
    "adult_survey_dataset[\"person_ID\"] = adult_survey_dataset[\"UPM\"].astype(str)+'_'+adult_survey_dataset[\"VIV_SEL\"].astype(str)+'_'+adult_survey_dataset[\"HOGAR\"].astype(str)+'_'+adult_survey_dataset[\"NUMREN\"].astype(str)\n",
    "\n",
    "# Delete unnecesary columns \n",
    "del adult_survey_dataset[\"UPM\"]\n",
    "del adult_survey_dataset[\"VIV_SEL\"]\n",
    "del adult_survey_dataset[\"HOGAR\"]\n",
    "del adult_survey_dataset[\"NUMREN\"]\n",
    "\n",
    "adult_survey_dataset.info()"
   ]
  },
  {
   "cell_type": "code",
   "execution_count": 7,
   "metadata": {},
   "outputs": [
    {
     "name": "stdout",
     "output_type": "stream",
     "text": [
      "<class 'pandas.core.frame.DataFrame'>\n",
      "RangeIndex: 15791 entries, 0 to 15790\n",
      "Data columns (total 16 columns):\n",
      " #   Column                Non-Null Count  Dtype \n",
      "---  ------                --------------  ----- \n",
      " 0   fruit_intake          15791 non-null  int64 \n",
      " 1   vegetable_intake      15791 non-null  int64 \n",
      " 2   legumes_intake        15791 non-null  int64 \n",
      " 3   meat_intake           15791 non-null  int64 \n",
      " 4   proc_meat_intake      15791 non-null  int64 \n",
      " 5   fast_food_intake      15791 non-null  int64 \n",
      " 6   sweets_intake         15791 non-null  int64 \n",
      " 7   sug_cereal_intake     15791 non-null  int64 \n",
      " 8   nd_sug_bev_intake     15791 non-null  int64 \n",
      " 9   water_intake          15791 non-null  int64 \n",
      " 10  dairy_sug_bev_intake  15791 non-null  int64 \n",
      " 11  dairy_intake          15791 non-null  int64 \n",
      " 12  egg_intake            15791 non-null  int64 \n",
      " 13  house_ID              15791 non-null  object\n",
      " 14  household_ID          15791 non-null  object\n",
      " 15  person_ID             15791 non-null  object\n",
      "dtypes: int64(13), object(3)\n",
      "memory usage: 1.9+ MB\n"
     ]
    }
   ],
   "source": [
    "# Food intake frequency adults\n",
    "food_intake_dataset = pd.read_csv(os.path.join(input_path, \"CN_FCA_ADU.csv\"))\n",
    "\n",
    "food_intake_dataset = food_intake_dataset[[\"UPM\",\"VIV_SEL\",\"HOGAR\",\"NUMREN\",\"FRUTAS\",\"VERDURAS\",\"LEGUMINOSAS\",\"CARNES\",\n",
    "                                           \"CARNES_PROC\",\"COMIDA_RAP\",\"DULCES\",\"CEREALES_DUL\", \"BEB_NOLAC_ENDUL\",\n",
    "                                           \"AGUA\",\"BEB_LAC_ENDUL\",\"LACTEOS\",\"HUEVO\"]]\n",
    "\n",
    "food_intake_dataset = food_intake_dataset.rename(columns={\"FRUTAS\": \"fruit_intake\",\n",
    "                                                          \"VERDURAS\": \"vegetable_intake\",\n",
    "                                                          \"LEGUMINOSAS\": \"legumes_intake\",\n",
    "                                                          \"CARNES\": \"meat_intake\",\n",
    "                                                          \"CARNES_PROC\": \"proc_meat_intake\",\n",
    "                                                          \"COMIDA_RAP\": \"fast_food_intake\",\n",
    "                                                          \"DULCES\": \"sweets_intake\",\n",
    "                                                          \"CEREALES_DUL\": \"sug_cereal_intake\",\n",
    "                                                          \"BEB_NOLAC_ENDUL\": \"nd_sug_bev_intake\",\n",
    "                                                          \"AGUA\": \"water_intake\",\n",
    "                                                          \"BEB_LAC_ENDUL\": \"dairy_sug_bev_intake\",\n",
    "                                                          \"LACTEOS\": \"dairy_intake\",\n",
    "                                                          \"HUEVO\": \"egg_intake\"})\n",
    "\n",
    "# Add column with primary keys for house and household\n",
    "food_intake_dataset[\"house_ID\"] = food_intake_dataset[\"UPM\"].astype(str)+'_'+food_intake_dataset[\"VIV_SEL\"].astype(str)\n",
    "food_intake_dataset[\"household_ID\"] = food_intake_dataset[\"UPM\"].astype(str)+'_'+food_intake_dataset[\"VIV_SEL\"].astype(str)+'_'+food_intake_dataset[\"HOGAR\"].astype(str)\n",
    "food_intake_dataset[\"person_ID\"] = food_intake_dataset[\"UPM\"].astype(str)+'_'+food_intake_dataset[\"VIV_SEL\"].astype(str)+'_'+food_intake_dataset[\"HOGAR\"].astype(str)+'_'+food_intake_dataset[\"NUMREN\"].astype(str)\n",
    "\n",
    "# Delete unnecesary columns \n",
    "del food_intake_dataset[\"UPM\"]\n",
    "del food_intake_dataset[\"VIV_SEL\"]\n",
    "del food_intake_dataset[\"HOGAR\"]\n",
    "del food_intake_dataset[\"NUMREN\"]\n",
    "\n",
    "food_intake_dataset.info()"
   ]
  },
  {
   "cell_type": "markdown",
   "metadata": {},
   "source": [
    "## Merge based on key"
   ]
  },
  {
   "cell_type": "code",
   "execution_count": 8,
   "metadata": {},
   "outputs": [],
   "source": [
    "# Import observation dataset\n",
    "sample_dataset = pd.read_csv(os.path.join(input_path_sample, \"sample_dataset.csv\"))"
   ]
  },
  {
   "cell_type": "code",
   "execution_count": 9,
   "metadata": {},
   "outputs": [],
   "source": [
    "# Concatenate based on household_ID or house_ID to evaluate size of n\n",
    "n_merge1 = sample_dataset.merge(residents_dataset, left_on=\"household_ID\", right_on=\"household_ID\", how=\"left\")\n",
    "n_merge2 = sample_dataset.merge(health_services_dataset, left_on=\"household_ID\", right_on=\"household_ID\", how=\"left\")\n",
    "n_merge3 = sample_dataset.merge(adult_survey_dataset, left_on=\"household_ID\", right_on=\"household_ID\", how=\"left\")\n",
    "n_merge4 = sample_dataset.merge(food_intake_dataset, left_on=\"household_ID\", right_on=\"household_ID\", how=\"left\")"
   ]
  },
  {
   "cell_type": "code",
   "execution_count": 10,
   "metadata": {},
   "outputs": [
    {
     "name": "stdout",
     "output_type": "stream",
     "text": [
      "Size of n from Sample & Residents survey:  50211\n",
      "Size of n from Sample & Health services:  10501\n",
      "Size of n from Sample & Adult health survey:  10301\n",
      "Size of n from Sample & Food intake:  10312\n"
     ]
    }
   ],
   "source": [
    "# See lenght of each concatenation\n",
    "print(\"Size of n from Sample & Residents survey: \",len(n_merge1))\n",
    "print(\"Size of n from Sample & Health services: \",len(n_merge2))\n",
    "print(\"Size of n from Sample & Adult health survey: \",len(n_merge3))\n",
    "print(\"Size of n from Sample & Food intake: \",len(n_merge4))"
   ]
  },
  {
   "cell_type": "markdown",
   "metadata": {},
   "source": [
    "Before merging the four datasets, first we need to identify include and distinguish the kinship and personal IDs of the random adult and the observation."
   ]
  },
  {
   "cell_type": "code",
   "execution_count": 11,
   "metadata": {},
   "outputs": [
    {
     "name": "stdout",
     "output_type": "stream",
     "text": [
      "<class 'pandas.core.frame.DataFrame'>\n",
      "Int64Index: 43070 entries, 0 to 43069\n",
      "Data columns (total 38 columns):\n",
      " #   Column                    Non-Null Count  Dtype  \n",
      "---  ------                    --------------  -----  \n",
      " 0   ob_diag                   43070 non-null  int64  \n",
      " 1   dm_diag                   43070 non-null  int64  \n",
      " 2   hbp_diag                  43070 non-null  int64  \n",
      " 3   cvd_ha_hi                 43070 non-null  int64  \n",
      " 4   cvd_chest_angina          43070 non-null  int64  \n",
      " 5   cvd_heart_failure         43070 non-null  int64  \n",
      " 6   cvd_cerebral_inf_emb      602 non-null    float64\n",
      " 7   kd_diag_uti               43070 non-null  int64  \n",
      " 8   kd_diag_k_stones          43070 non-null  int64  \n",
      " 9   kd_diag_renal_fail        43070 non-null  int64  \n",
      " 10  chol_diag                 43070 non-null  int64  \n",
      " 11  trig_diag                 43070 non-null  int64  \n",
      " 12  fmh_father_dm             42436 non-null  float64\n",
      " 13  fmh_father_hbp            42436 non-null  float64\n",
      " 14  fmh_father_hi             42436 non-null  float64\n",
      " 15  fmh_father_chol_tri       42436 non-null  float64\n",
      " 16  fmh_mother_dm             42874 non-null  float64\n",
      " 17  fmh_mother_hbp            42874 non-null  float64\n",
      " 18  fmh_mother_hi             42862 non-null  float64\n",
      " 19  fmh_mother_chol_tri       42874 non-null  float64\n",
      " 20  fmh_sibling_dm            42479 non-null  float64\n",
      " 21  fmh_sibling_hbp           42479 non-null  float64\n",
      " 22  fmh_sibling_hi            42479 non-null  float64\n",
      " 23  fmh_sibling_chol_tri      42479 non-null  float64\n",
      " 24  violence                  43070 non-null  int64  \n",
      " 25  present_smoker            43070 non-null  int64  \n",
      " 26  past_smoker               35399 non-null  float64\n",
      " 27  present_alc_drinker       869 non-null    float64\n",
      " 28  sight_aid                 43070 non-null  int64  \n",
      " 29  hearing_aid               43070 non-null  int64  \n",
      " 30  walk_difficulty           43070 non-null  int64  \n",
      " 31  memory_difficulty         43070 non-null  int64  \n",
      " 32  self_care_difficulty      43070 non-null  int64  \n",
      " 33  communication_difficulty  43070 non-null  int64  \n",
      " 34  house_ID                  43070 non-null  object \n",
      " 35  household_ID              43070 non-null  object \n",
      " 36  person_ID                 43070 non-null  object \n",
      " 37  kinship_random_adult      43070 non-null  int64  \n",
      "dtypes: float64(15), int64(20), object(3)\n",
      "memory usage: 12.8+ MB\n"
     ]
    }
   ],
   "source": [
    "# It is necessary to do the same as before but for the random adult\n",
    "# Generate dataframe with person_ID and kinship\n",
    "relationship_random_adult = pd.DataFrame(residents_dataset[[\"person_ID\",\"kinship\"]])\n",
    "\n",
    "# Merge with sample dataset based on person_ID\n",
    "adult_survey_dataset = adult_survey_dataset.merge(relationship_random_adult, left_on=\"person_ID\", right_on=\"person_ID\", how=\"left\", suffixes=('', '_remove'))\n",
    "\n",
    "# Remove duplicated columns\n",
    "adult_survey_dataset.drop([i for i in adult_survey_dataset.columns if 'remove' in i],\n",
    "               axis=1, inplace=True)\n",
    "adult_survey_dataset.columns\n",
    "\n",
    "# Rename columns to identify them as random adult columns\n",
    "adult_survey_dataset = adult_survey_dataset.rename(columns={\"kinship\":\"kinship_random_adult\"})\n",
    "\n",
    "adult_survey_dataset.info()"
   ]
  },
  {
   "cell_type": "markdown",
   "metadata": {},
   "source": [
    "Since the \"kinship\" column is no longer necessary it will be removed before merging the rest of the datasets. "
   ]
  },
  {
   "cell_type": "code",
   "execution_count": 12,
   "metadata": {},
   "outputs": [],
   "source": [
    "del residents_dataset[\"kinship\"]"
   ]
  },
  {
   "cell_type": "markdown",
   "metadata": {},
   "source": [
    "Next step is merging the datasets corresponding to the random adult in the house."
   ]
  },
  {
   "cell_type": "code",
   "execution_count": 13,
   "metadata": {},
   "outputs": [
    {
     "data": {
      "text/plain": [
       "Index(['ob_diag', 'dm_diag', 'hbp_diag', 'cvd_ha_hi', 'cvd_chest_angina',\n",
       "       'cvd_heart_failure', 'cvd_cerebral_inf_emb', 'kd_diag_uti',\n",
       "       'kd_diag_k_stones', 'kd_diag_renal_fail',\n",
       "       ...\n",
       "       'treat_cost', 'meds_cost', 'care_travel', 'time_diagnosis',\n",
       "       'hc_pers_know_patient', 'hc_pers_questions', 'hc_pers_time',\n",
       "       'hc_pers_shared_dec', 'hc_pers_explain', 'hc_pers_coordination'],\n",
       "      dtype='object', length=105)"
      ]
     },
     "execution_count": 13,
     "metadata": {},
     "output_type": "execute_result"
    }
   ],
   "source": [
    "health_info_adult = adult_survey_dataset.merge(\n",
    "    residents_dataset, left_on=\"person_ID\", right_on=\"person_ID\", how=\"left\", suffixes=('', '_remove')).merge(\n",
    "    food_intake_dataset,left_on=\"person_ID\", right_on=\"person_ID\", how=\"left\", suffixes=('', '_remove')).merge(\n",
    "        health_services_dataset, left_on=\"person_ID\", right_on=\"person_ID\", how=\"left\", suffixes=('', '_remove'))\n",
    "    \n",
    "health_info_adult.shape\n",
    "\n",
    "# Remove duplicated columns\n",
    "health_info_adult.drop([i for i in health_info_adult.columns if 'remove' in i],\n",
    "               axis=1, inplace=True)\n",
    "health_info_adult.columns"
   ]
  },
  {
   "cell_type": "code",
   "execution_count": 14,
   "metadata": {},
   "outputs": [
    {
     "data": {
      "text/plain": [
       "['house_ID',\n",
       " 'household_ID',\n",
       " 'person_ID',\n",
       " 'region',\n",
       " 'strata',\n",
       " 'locality_type',\n",
       " 'locality_size',\n",
       " 'age_months',\n",
       " 'age_years',\n",
       " 'sex',\n",
       " 'BMI_SD',\n",
       " 'label_cat',\n",
       " 'label',\n",
       " 'ob_diag',\n",
       " 'dm_diag',\n",
       " 'hbp_diag',\n",
       " 'cvd_ha_hi',\n",
       " 'cvd_chest_angina',\n",
       " 'cvd_heart_failure',\n",
       " 'cvd_cerebral_inf_emb',\n",
       " 'kd_diag_uti',\n",
       " 'kd_diag_k_stones',\n",
       " 'kd_diag_renal_fail',\n",
       " 'chol_diag',\n",
       " 'trig_diag',\n",
       " 'fmh_father_dm',\n",
       " 'fmh_father_hbp',\n",
       " 'fmh_father_hi',\n",
       " 'fmh_father_chol_tri',\n",
       " 'fmh_mother_dm',\n",
       " 'fmh_mother_hbp',\n",
       " 'fmh_mother_hi',\n",
       " 'fmh_mother_chol_tri',\n",
       " 'fmh_sibling_dm',\n",
       " 'fmh_sibling_hbp',\n",
       " 'fmh_sibling_hi',\n",
       " 'fmh_sibling_chol_tri',\n",
       " 'violence',\n",
       " 'present_smoker',\n",
       " 'past_smoker',\n",
       " 'present_alc_drinker',\n",
       " 'sight_aid',\n",
       " 'hearing_aid',\n",
       " 'walk_difficulty',\n",
       " 'memory_difficulty',\n",
       " 'self_care_difficulty',\n",
       " 'communication_difficulty',\n",
       " 'kinship_random_adult',\n",
       " 'age_health_info_adult',\n",
       " 'sex_health_info_adult',\n",
       " 'hc_inst_IMSS',\n",
       " 'hc_inst_ISSSTE',\n",
       " 'hc_inst_ISSSTE_st',\n",
       " 'hc_inst_PEMEX',\n",
       " 'hc_inst_Defensa',\n",
       " 'hc_inst_Marina',\n",
       " 'hc_inst_SSA',\n",
       " 'hc_inst_IMSS_Pro',\n",
       " 'hc_inst_pharma',\n",
       " 'hc_inst_private',\n",
       " 'hc_inst_selfmed',\n",
       " 'hc_inst_other',\n",
       " 'hc_inst_doesnotgo',\n",
       " 'hc_inst_doesnotknow',\n",
       " 'hc_afill_IMSS',\n",
       " 'hc_afill_ISSSTE',\n",
       " 'hc_afill_ISSSTE_st',\n",
       " 'hc_afill_PEMEX',\n",
       " 'hc_afill_Defensa',\n",
       " 'hc_afill_Marina',\n",
       " 'hc_afill_SSA',\n",
       " 'hc_afill_IMSS_Pro',\n",
       " 'hc_afill_private',\n",
       " 'hc_afill_other',\n",
       " 'hc_afill_none',\n",
       " 'hc_afill_notknow',\n",
       " 'speak_ind_lang',\n",
       " 'speak_spanish',\n",
       " 'attend_school',\n",
       " 'grade_achieved',\n",
       " 'read_write',\n",
       " 'marital_status',\n",
       " 'worked_hours',\n",
       " 'diff_use_legs',\n",
       " 'diff_see',\n",
       " 'diff_use_arms',\n",
       " 'diff_learn',\n",
       " 'diff_hear',\n",
       " 'diff_self_care',\n",
       " 'diff_speak',\n",
       " 'diff_daily_act',\n",
       " 'fruit_intake',\n",
       " 'vegetable_intake',\n",
       " 'legumes_intake',\n",
       " 'meat_intake',\n",
       " 'proc_meat_intake',\n",
       " 'fast_food_intake',\n",
       " 'sweets_intake',\n",
       " 'sug_cereal_intake',\n",
       " 'nd_sug_bev_intake',\n",
       " 'water_intake',\n",
       " 'dairy_sug_bev_intake',\n",
       " 'dairy_intake',\n",
       " 'egg_intake',\n",
       " 'care_costs',\n",
       " 'treat_cost',\n",
       " 'meds_cost',\n",
       " 'care_travel',\n",
       " 'time_diagnosis',\n",
       " 'hc_pers_know_patient',\n",
       " 'hc_pers_questions',\n",
       " 'hc_pers_time',\n",
       " 'hc_pers_shared_dec',\n",
       " 'hc_pers_explain',\n",
       " 'hc_pers_coordination']"
      ]
     },
     "execution_count": 14,
     "metadata": {},
     "output_type": "execute_result"
    }
   ],
   "source": [
    "m3_dataset = sample_dataset.merge(health_info_adult, left_on=\"household_ID\", right_on=\"household_ID\", how=\"left\", suffixes=('', '_remove'))\n",
    "m3_dataset.shape\n",
    "\n",
    "# Remove duplicated columns\n",
    "m3_dataset.drop([i for i in m3_dataset.columns if 'remove' in i],\n",
    "               axis=1, inplace=True)\n",
    "m3_dataset.columns.tolist()"
   ]
  },
  {
   "cell_type": "code",
   "execution_count": 15,
   "metadata": {},
   "outputs": [
    {
     "data": {
      "text/plain": [
       "(10301, 115)"
      ]
     },
     "execution_count": 15,
     "metadata": {},
     "output_type": "execute_result"
    }
   ],
   "source": [
    "m3_dataset.shape"
   ]
  },
  {
   "cell_type": "code",
   "execution_count": 16,
   "metadata": {},
   "outputs": [
    {
     "data": {
      "text/plain": [
       "0"
      ]
     },
     "execution_count": 16,
     "metadata": {},
     "output_type": "execute_result"
    }
   ],
   "source": [
    "m3_dataset.duplicated().sum()"
   ]
  },
  {
   "cell_type": "markdown",
   "metadata": {},
   "source": [
    "## Check for missing values"
   ]
  },
  {
   "cell_type": "markdown",
   "metadata": {},
   "source": [
    "Since a lot columns represent dummy variables for one answer and a lot of feature engineering is required, missing values would not be removed yet."
   ]
  },
  {
   "cell_type": "markdown",
   "metadata": {},
   "source": [
    "## Export dataset"
   ]
  },
  {
   "cell_type": "code",
   "execution_count": 17,
   "metadata": {},
   "outputs": [],
   "source": [
    "#Export dataset as a csv\n",
    "m3_dataset.to_csv(os.path.join(output_path,'m3_feature_extraction.csv'), index=None, header=True)"
   ]
  }
 ],
 "metadata": {
  "interpreter": {
   "hash": "13411cb057e0d9c179bd3d65bdeeedc371d923faa4873b8c60e49aab85d5bd78"
  },
  "kernelspec": {
   "display_name": "Python 3.8.0 64-bit",
   "language": "python",
   "name": "python3"
  },
  "language_info": {
   "codemirror_mode": {
    "name": "ipython",
    "version": 3
   },
   "file_extension": ".py",
   "mimetype": "text/x-python",
   "name": "python",
   "nbconvert_exporter": "python",
   "pygments_lexer": "ipython3",
   "version": "3.8.0"
  },
  "orig_nbformat": 4
 },
 "nbformat": 4,
 "nbformat_minor": 2
}
