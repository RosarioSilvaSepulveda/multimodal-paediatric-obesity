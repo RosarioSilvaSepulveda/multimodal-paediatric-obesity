{
 "cells": [
  {
   "cell_type": "markdown",
   "metadata": {},
   "source": [
    "# Feature extraction\n",
    "## Modality 1: House characteristics\n",
    "Each modality is a combination of features from the different CSV that conform the database.\n",
    "- CS_HOGARES\n",
    "    - P2_9_2: hired_care\n",
    "    - P2_9_5: hired_cook\n",
    "    - P6_1_1: has_TV\n",
    "    - P6_1_2: has_paid_TV\n",
    "    - P6_1_3: has_radio\n",
    "    - P6_1_4: has_audio_system\n",
    "    - P6_1_5: has_computer\n",
    "    - P6_1_6: has_cell_phone\n",
    "    - P6_1_7: has_internet\n",
    "    - P6_1_8: has_phone\n",
    "    - P6_1_9: has_iron\n",
    "    - P6_1_10: has_blender\n",
    "    - P6_1_11: has_refrigerator\n",
    "    - P6_1_12: has_gas_stove\n",
    "    - P6_1_13: has_other_stove\n",
    "    - P6_1_14: has_wash_dry\n",
    "    - P6_1_15: has_microwave"
   ]
  },
  {
   "cell_type": "markdown",
   "metadata": {},
   "source": [
    "- CS_VIVIENDAS\n",
    "    - P1_6: kitchen\n",
    "    - P1_7: place_cook\n",
    "    - P1_8: cook_sleep\n",
    "    - P1_9: type_fuel\n",
    "    - P1_10: type_stove\n",
    "    - P2_1: food_expense"
   ]
  },
  {
   "cell_type": "markdown",
   "metadata": {},
   "source": [
    "- CS_SEGURIDAD_ALIMENTARIA\n",
    "    - P1: food_worry\n",
    "    - P2: food_ran_out\n",
    "    - P3: healthy_food_lack_adu\n",
    "    - P4: low_food_variety_adu\n",
    "    - P5: food_lack_meal_adu\n",
    "    - P6: ate_less_food_adu\n",
    "    - P7: hunger_adu\n",
    "    - P8: ate_once_adu\n",
    "    - P10: healthy_food_lack_minor\n",
    "    - P11: low_food_variety_minor\n",
    "    - P12: food_lack_meal_minor\n",
    "    - P13: ate_less_food_minor\n",
    "    - P14: ate_less_meals_minor\n",
    "    - P15: hunger_minor\n",
    "    - P16: ate_once_minor"
   ]
  },
  {
   "cell_type": "markdown",
   "metadata": {},
   "source": [
    "## Setup"
   ]
  },
  {
   "cell_type": "markdown",
   "metadata": {},
   "source": [
    "### Libraries"
   ]
  },
  {
   "cell_type": "code",
   "execution_count": 8,
   "metadata": {},
   "outputs": [],
   "source": [
    "# Import libraries\n",
    "import os\n",
    "import pandas as pd\n",
    "import numpy as np"
   ]
  },
  {
   "cell_type": "markdown",
   "metadata": {},
   "source": [
    "### Paths"
   ]
  },
  {
   "cell_type": "code",
   "execution_count": 9,
   "metadata": {},
   "outputs": [],
   "source": [
    "input_path = '../../0_source_csv/ensanut/'\n",
    "input_path_sample = '../output'\n",
    "\n",
    "output_path = '../output/'\n",
    "\n",
    "# Global configuration path\n",
    "glob_conf_path = '../../config/global_config_paper.py'"
   ]
  },
  {
   "cell_type": "markdown",
   "metadata": {},
   "source": [
    "### Set local variables"
   ]
  },
  {
   "cell_type": "code",
   "execution_count": 10,
   "metadata": {},
   "outputs": [],
   "source": [
    "exec(open(glob_conf_path).read())"
   ]
  },
  {
   "cell_type": "markdown",
   "metadata": {},
   "source": [
    "## Extract features"
   ]
  },
  {
   "cell_type": "code",
   "execution_count": 11,
   "metadata": {},
   "outputs": [
    {
     "name": "stdout",
     "output_type": "stream",
     "text": [
      "<class 'pandas.core.frame.DataFrame'>\n",
      "RangeIndex: 44612 entries, 0 to 44611\n",
      "Data columns (total 18 columns):\n",
      " #   Column            Non-Null Count  Dtype \n",
      "---  ------            --------------  ----- \n",
      " 0   hired_aid         44612 non-null  int64 \n",
      " 1   has_TV            44612 non-null  int64 \n",
      " 2   has_paid_TV       44612 non-null  int64 \n",
      " 3   has_radio         44612 non-null  int64 \n",
      " 4   has_audio_system  44612 non-null  int64 \n",
      " 5   has_computer      44612 non-null  int64 \n",
      " 6   has_cell_phone    44612 non-null  int64 \n",
      " 7   has_internet      44612 non-null  int64 \n",
      " 8   has_phone         44612 non-null  int64 \n",
      " 9   has_iron          44612 non-null  int64 \n",
      " 10  has_blender       44612 non-null  int64 \n",
      " 11  has_refrigerator  44612 non-null  int64 \n",
      " 12  has_gas_stove     44612 non-null  int64 \n",
      " 13  has_other_stove   44612 non-null  int64 \n",
      " 14  has_wash_dry      44612 non-null  int64 \n",
      " 15  has_microwave     44612 non-null  int64 \n",
      " 16  house_ID          44612 non-null  object\n",
      " 17  household_ID      44612 non-null  object\n",
      "dtypes: int64(16), object(2)\n",
      "memory usage: 6.1+ MB\n"
     ]
    }
   ],
   "source": [
    "# Household survey\n",
    "household_dataset = pd.read_csv(os.path.join(input_path, \"CS_HOGARES.csv\"))\n",
    "\n",
    "household_dataset = household_dataset[[\"UPM\",\"VIV_SEL\",\"HOGAR\",\"NUMREN\",\"P2_8\",\"P6_1_1\",\"P6_1_2\",\"P6_1_3\",\"P6_1_4\",\n",
    "                             \"P6_1_5\",\"P6_1_6\",\"P6_1_7\",\"P6_1_8\",\"P6_1_9\",\"P6_1_10\",\"P6_1_11\",\"P6_1_12\",\"P6_1_13\",\n",
    "                             \"P6_1_14\",\"P6_1_15\"]]\n",
    "\n",
    "household_dataset = household_dataset.rename(columns={\"P2_8\": \"hired_aid\",\n",
    "                                            \"P6_1_1\": \"has_TV\",\n",
    "                                            \"P6_1_2\": \"has_paid_TV\",\n",
    "                                            \"P6_1_3\": \"has_radio\",\n",
    "                                            \"P6_1_4\": \"has_audio_system\",\n",
    "                                            \"P6_1_5\": \"has_computer\",\n",
    "                                            \"P6_1_6\": \"has_cell_phone\",\n",
    "                                            \"P6_1_7\": \"has_internet\",\n",
    "                                            \"P6_1_8\": \"has_phone\",\n",
    "                                            \"P6_1_9\": \"has_iron\",\n",
    "                                            \"P6_1_10\": \"has_blender\",\n",
    "                                            \"P6_1_11\": \"has_refrigerator\",\n",
    "                                            \"P6_1_12\": \"has_gas_stove\",\n",
    "                                            \"P6_1_13\": \"has_other_stove\",\n",
    "                                            \"P6_1_14\": \"has_wash_dry\",\n",
    "                                            \"P6_1_15\": \"has_microwave\"})                      \n",
    "\n",
    "# Add column with primary keys for house and household\n",
    "household_dataset[\"house_ID\"] = household_dataset[\"UPM\"].astype(str)+'_'+household_dataset[\"VIV_SEL\"].astype(str)\n",
    "household_dataset[\"household_ID\"] = household_dataset[\"UPM\"].astype(str)+'_'+household_dataset[\"VIV_SEL\"].astype(str)+'_'+household_dataset[\"HOGAR\"].astype(str)\n",
    "\n",
    "# Delete unnecesary columns \n",
    "del household_dataset[\"UPM\"]\n",
    "del household_dataset[\"VIV_SEL\"]\n",
    "del household_dataset[\"HOGAR\"]\n",
    "del household_dataset[\"NUMREN\"]\n",
    "\n",
    "household_dataset.info()"
   ]
  },
  {
   "cell_type": "code",
   "execution_count": 12,
   "metadata": {},
   "outputs": [
    {
     "name": "stdout",
     "output_type": "stream",
     "text": [
      "<class 'pandas.core.frame.DataFrame'>\n",
      "RangeIndex: 44069 entries, 0 to 44068\n",
      "Data columns (total 7 columns):\n",
      " #   Column        Non-Null Count  Dtype  \n",
      "---  ------        --------------  -----  \n",
      " 0   kitchen       44069 non-null  int64  \n",
      " 1   place_cook    2344 non-null   float64\n",
      " 2   cook_sleep    41725 non-null  float64\n",
      " 3   type_fuel     43597 non-null  float64\n",
      " 4    type_stove   43394 non-null  float64\n",
      " 5   food_expense  44069 non-null  int64  \n",
      " 6   house_ID      44069 non-null  object \n",
      "dtypes: float64(4), int64(2), object(1)\n",
      "memory usage: 2.4+ MB\n"
     ]
    }
   ],
   "source": [
    "# House survey\n",
    "house_dataset = pd.read_csv(os.path.join(input_path, \"CS_VIVIENDAS.csv\"))\n",
    "\n",
    "house_dataset = house_dataset[[\"UPM\",\"VIV_SEL\",\"P1_6\",\"P1_7\",\"P1_8\",\"P1_9\",\"P1_10\",\"P2_1\"]]\n",
    "\n",
    "house_dataset = house_dataset.rename(columns={\"P1_6\": \"kitchen\",\n",
    "                                              \"P1_7\": \"place_cook\",\n",
    "                                              \"P1_8\": \"cook_sleep\",\n",
    "                                              \"P1_9\": \"type_fuel\",\n",
    "                                              \"P1_10\":\" type_stove\",\n",
    "                                              \"P2_1\": \"food_expense\"})\n",
    "\n",
    "# Add column with primary keys for house and household\n",
    "house_dataset[\"house_ID\"] = house_dataset[\"UPM\"].astype(str)+'_'+house_dataset[\"VIV_SEL\"].astype(str)\n",
    "\n",
    "# Delete unnecesary columns \n",
    "del house_dataset[\"UPM\"]\n",
    "del house_dataset[\"VIV_SEL\"]\n",
    "\n",
    "house_dataset.info()"
   ]
  },
  {
   "cell_type": "code",
   "execution_count": 13,
   "metadata": {},
   "outputs": [
    {
     "name": "stdout",
     "output_type": "stream",
     "text": [
      "<class 'pandas.core.frame.DataFrame'>\n",
      "RangeIndex: 44574 entries, 0 to 44573\n",
      "Data columns (total 17 columns):\n",
      " #   Column                   Non-Null Count  Dtype  \n",
      "---  ------                   --------------  -----  \n",
      " 0   food_worry               44574 non-null  int64  \n",
      " 1   food_ran_out             44574 non-null  int64  \n",
      " 2   healthy_food_lack_adu    44574 non-null  int64  \n",
      " 3   low_food_variety_adu     44574 non-null  int64  \n",
      " 4   food_lack_meal_adu       44574 non-null  int64  \n",
      " 5   ate_less_food_adu        44574 non-null  int64  \n",
      " 6   hunger_adu               44574 non-null  int64  \n",
      " 7   ate_once_adu             44574 non-null  int64  \n",
      " 8   healthy_food_lack_minor  25272 non-null  float64\n",
      " 9   low_food_variety_minor   25272 non-null  float64\n",
      " 10  food_lack_meal_minor     25272 non-null  float64\n",
      " 11  ate_less_food_minor      25272 non-null  float64\n",
      " 12  ate_less_meals_minor     25272 non-null  float64\n",
      " 13  hunger_minor             25272 non-null  float64\n",
      " 14  ate_once_minor           25272 non-null  float64\n",
      " 15  house_ID                 44574 non-null  object \n",
      " 16  household_ID             44574 non-null  object \n",
      "dtypes: float64(7), int64(8), object(2)\n",
      "memory usage: 5.8+ MB\n"
     ]
    }
   ],
   "source": [
    "# Food safety\n",
    "food_safety_dataset = pd.read_csv(os.path.join(input_path, \"CS_SEGURIDAD_ALIMENTARIA.csv\"))\n",
    "\n",
    "food_safety_dataset = food_safety_dataset[[\"UPM\",\"VIV_SEL\",\"HOGAR\",\"NUMREN\",\"P1\", \"P2\" ,\"P3\" ,\"P4\" ,\"P5\" ,\"P6\" ,\"P7\" ,\n",
    "                                           \"P8\" ,\"P10\",\"P11\",\"P12\",\"P13\",\"P14\",\"P15\",\"P16\"]]\n",
    "\n",
    "food_safety_dataset = food_safety_dataset.rename(columns={\"P1\" : \"food_worry\",\n",
    "                                                          \"P2\" : \"food_ran_out\",\n",
    "                                                          \"P3\" : \"healthy_food_lack_adu\",\n",
    "                                                          \"P4\" : \"low_food_variety_adu\",\n",
    "                                                          \"P5\" : \"food_lack_meal_adu\",\n",
    "                                                          \"P6\" : \"ate_less_food_adu\",\n",
    "                                                          \"P7\" : \"hunger_adu\",\n",
    "                                                          \"P8\" : \"ate_once_adu\",\n",
    "                                                          \"P10\": \"healthy_food_lack_minor\",\n",
    "                                                          \"P11\": \"low_food_variety_minor\",\n",
    "                                                          \"P12\": \"food_lack_meal_minor\",\n",
    "                                                          \"P13\": \"ate_less_food_minor\",\n",
    "                                                          \"P14\": \"ate_less_meals_minor\",\n",
    "                                                          \"P15\": \"hunger_minor\",\n",
    "                                                          \"P16\": \"ate_once_minor\"})\n",
    "\n",
    "# Add column with primary keys for house and household\n",
    "food_safety_dataset[\"house_ID\"] = food_safety_dataset[\"UPM\"].astype(str)+'_'+food_safety_dataset[\"VIV_SEL\"].astype(str)\n",
    "food_safety_dataset[\"household_ID\"] = food_safety_dataset[\"UPM\"].astype(str)+'_'+food_safety_dataset[\"VIV_SEL\"].astype(str)+'_'+food_safety_dataset[\"HOGAR\"].astype(str)\n",
    "\n",
    "# Delete unnecesary columns \n",
    "del food_safety_dataset[\"UPM\"]\n",
    "del food_safety_dataset[\"VIV_SEL\"]\n",
    "del food_safety_dataset[\"HOGAR\"]\n",
    "del food_safety_dataset[\"NUMREN\"]\n",
    "\n",
    "food_safety_dataset.info()"
   ]
  },
  {
   "cell_type": "markdown",
   "metadata": {},
   "source": [
    "## Merge based on key"
   ]
  },
  {
   "cell_type": "markdown",
   "metadata": {},
   "source": [
    "Merging the data for this modality is tricky. First the information about the household and house needs to be concatenated and afterwards joined to the observations dataset (corresponding to the child or adolescent that lives in the same household)."
   ]
  },
  {
   "cell_type": "code",
   "execution_count": 14,
   "metadata": {},
   "outputs": [],
   "source": [
    "# Import observation dataset\n",
    "sample_dataset = pd.read_csv(os.path.join(input_path_sample, \"sample_dataset.csv\"))"
   ]
  },
  {
   "cell_type": "code",
   "execution_count": 15,
   "metadata": {},
   "outputs": [],
   "source": [
    "# Concatenate based on household_ID or house_ID to evaluate size of n\n",
    "n_merge1 = sample_dataset.merge(household_dataset, left_on=\"household_ID\", right_on=\"household_ID\")\n",
    "n_merge2 = sample_dataset.merge(house_dataset, left_on=\"house_ID\", right_on=\"house_ID\")\n",
    "n_merge3 = sample_dataset.merge(food_safety_dataset, left_on=\"household_ID\", right_on=\"household_ID\")"
   ]
  },
  {
   "cell_type": "code",
   "execution_count": 16,
   "metadata": {},
   "outputs": [
    {
     "name": "stdout",
     "output_type": "stream",
     "text": [
      "Size of n from Sample & Household survey:  10301\n",
      "Size of n from Sample & House services:  10301\n",
      "Size of n from Sample & Food safety survey:  10299\n"
     ]
    }
   ],
   "source": [
    "# See lenght of each concatenation\n",
    "print(\"Size of n from Sample & Household survey: \",len(n_merge1))\n",
    "print(\"Size of n from Sample & House services: \",len(n_merge2))\n",
    "print(\"Size of n from Sample & Food safety survey: \",len(n_merge3))"
   ]
  },
  {
   "cell_type": "markdown",
   "metadata": {},
   "source": [
    "Seems like there is information about most of the children and adolescents that are sample population. Next step is merging the datasets corresponding to the household or house."
   ]
  },
  {
   "cell_type": "code",
   "execution_count": 17,
   "metadata": {},
   "outputs": [
    {
     "data": {
      "text/plain": [
       "(10301, 52)"
      ]
     },
     "execution_count": 17,
     "metadata": {},
     "output_type": "execute_result"
    }
   ],
   "source": [
    "m1_dataset = sample_dataset.merge(\n",
    "    household_dataset, left_on=\"household_ID\", right_on=\"household_ID\", how=\"left\", suffixes=('', '_remove')).merge(\n",
    "    house_dataset,left_on=\"house_ID\", right_on=\"house_ID\", how=\"left\", suffixes=('', '_remove')).merge(\n",
    "        food_safety_dataset, left_on=\"household_ID\", right_on=\"household_ID\", how=\"left\", suffixes=('', '_remove'))\n",
    "    \n",
    "m1_dataset.shape"
   ]
  },
  {
   "cell_type": "code",
   "execution_count": 18,
   "metadata": {},
   "outputs": [
    {
     "name": "stdout",
     "output_type": "stream",
     "text": [
      "Duplicated rows:  0\n"
     ]
    }
   ],
   "source": [
    "print(\"Duplicated rows: \", m1_dataset.duplicated().sum())"
   ]
  },
  {
   "cell_type": "code",
   "execution_count": 19,
   "metadata": {},
   "outputs": [
    {
     "data": {
      "text/plain": [
       "Index(['house_ID', 'household_ID', 'person_ID', 'region', 'strata',\n",
       "       'locality_type', 'locality_size', 'age_months', 'age_years', 'sex',\n",
       "       'BMI_SD', 'label_cat', 'label', 'hired_aid', 'has_TV', 'has_paid_TV',\n",
       "       'has_radio', 'has_audio_system', 'has_computer', 'has_cell_phone',\n",
       "       'has_internet', 'has_phone', 'has_iron', 'has_blender',\n",
       "       'has_refrigerator', 'has_gas_stove', 'has_other_stove', 'has_wash_dry',\n",
       "       'has_microwave', 'house_ID_remove', 'kitchen', 'place_cook',\n",
       "       'cook_sleep', 'type_fuel', ' type_stove', 'food_expense', 'food_worry',\n",
       "       'food_ran_out', 'healthy_food_lack_adu', 'low_food_variety_adu',\n",
       "       'food_lack_meal_adu', 'ate_less_food_adu', 'hunger_adu', 'ate_once_adu',\n",
       "       'healthy_food_lack_minor', 'low_food_variety_minor',\n",
       "       'food_lack_meal_minor', 'ate_less_food_minor', 'ate_less_meals_minor',\n",
       "       'hunger_minor', 'ate_once_minor', 'house_ID_remove'],\n",
       "      dtype='object')"
      ]
     },
     "execution_count": 19,
     "metadata": {},
     "output_type": "execute_result"
    }
   ],
   "source": [
    "m1_dataset.columns"
   ]
  },
  {
   "cell_type": "code",
   "execution_count": 20,
   "metadata": {},
   "outputs": [
    {
     "data": {
      "text/plain": [
       "Index(['house_ID', 'household_ID', 'person_ID', 'region', 'strata',\n",
       "       'locality_type', 'locality_size', 'age_months', 'age_years', 'sex',\n",
       "       'BMI_SD', 'label_cat', 'label', 'hired_aid', 'has_TV', 'has_paid_TV',\n",
       "       'has_radio', 'has_audio_system', 'has_computer', 'has_cell_phone',\n",
       "       'has_internet', 'has_phone', 'has_iron', 'has_blender',\n",
       "       'has_refrigerator', 'has_gas_stove', 'has_other_stove', 'has_wash_dry',\n",
       "       'has_microwave', 'kitchen', 'place_cook', 'cook_sleep', 'type_fuel',\n",
       "       ' type_stove', 'food_expense', 'food_worry', 'food_ran_out',\n",
       "       'healthy_food_lack_adu', 'low_food_variety_adu', 'food_lack_meal_adu',\n",
       "       'ate_less_food_adu', 'hunger_adu', 'ate_once_adu',\n",
       "       'healthy_food_lack_minor', 'low_food_variety_minor',\n",
       "       'food_lack_meal_minor', 'ate_less_food_minor', 'ate_less_meals_minor',\n",
       "       'hunger_minor', 'ate_once_minor'],\n",
       "      dtype='object')"
      ]
     },
     "execution_count": 20,
     "metadata": {},
     "output_type": "execute_result"
    }
   ],
   "source": [
    "m1_dataset.drop([i for i in m1_dataset.columns if 'remove' in i],\n",
    "               axis=1, inplace=True)\n",
    "m1_dataset.columns"
   ]
  },
  {
   "cell_type": "code",
   "execution_count": 21,
   "metadata": {},
   "outputs": [
    {
     "data": {
      "text/plain": [
       "(10301, 50)"
      ]
     },
     "execution_count": 21,
     "metadata": {},
     "output_type": "execute_result"
    }
   ],
   "source": [
    "m1_dataset.shape"
   ]
  },
  {
   "cell_type": "code",
   "execution_count": 22,
   "metadata": {},
   "outputs": [
    {
     "name": "stdout",
     "output_type": "stream",
     "text": [
      "<class 'pandas.core.frame.DataFrame'>\n",
      "Int64Index: 10301 entries, 0 to 10300\n",
      "Data columns (total 50 columns):\n",
      " #   Column                   Non-Null Count  Dtype  \n",
      "---  ------                   --------------  -----  \n",
      " 0   house_ID                 10301 non-null  object \n",
      " 1   household_ID             10301 non-null  object \n",
      " 2   person_ID                10301 non-null  object \n",
      " 3   region                   10301 non-null  object \n",
      " 4   strata                   10301 non-null  object \n",
      " 5   locality_type            10301 non-null  object \n",
      " 6   locality_size            10301 non-null  object \n",
      " 7   age_months               10301 non-null  int64  \n",
      " 8   age_years                10301 non-null  int64  \n",
      " 9   sex                      10301 non-null  object \n",
      " 10  BMI_SD                   10301 non-null  float64\n",
      " 11  label_cat                10301 non-null  object \n",
      " 12  label                    10301 non-null  int64  \n",
      " 13  hired_aid                10301 non-null  int64  \n",
      " 14  has_TV                   10301 non-null  int64  \n",
      " 15  has_paid_TV              10301 non-null  int64  \n",
      " 16  has_radio                10301 non-null  int64  \n",
      " 17  has_audio_system         10301 non-null  int64  \n",
      " 18  has_computer             10301 non-null  int64  \n",
      " 19  has_cell_phone           10301 non-null  int64  \n",
      " 20  has_internet             10301 non-null  int64  \n",
      " 21  has_phone                10301 non-null  int64  \n",
      " 22  has_iron                 10301 non-null  int64  \n",
      " 23  has_blender              10301 non-null  int64  \n",
      " 24  has_refrigerator         10301 non-null  int64  \n",
      " 25  has_gas_stove            10301 non-null  int64  \n",
      " 26  has_other_stove          10301 non-null  int64  \n",
      " 27  has_wash_dry             10301 non-null  int64  \n",
      " 28  has_microwave            10301 non-null  int64  \n",
      " 29  kitchen                  10301 non-null  int64  \n",
      " 30  place_cook               637 non-null    float64\n",
      " 31  cook_sleep               9664 non-null   float64\n",
      " 32  type_fuel                10252 non-null  float64\n",
      " 33   type_stove              10243 non-null  float64\n",
      " 34  food_expense             10301 non-null  int64  \n",
      " 35  food_worry               10299 non-null  float64\n",
      " 36  food_ran_out             10299 non-null  float64\n",
      " 37  healthy_food_lack_adu    10299 non-null  float64\n",
      " 38  low_food_variety_adu     10299 non-null  float64\n",
      " 39  food_lack_meal_adu       10299 non-null  float64\n",
      " 40  ate_less_food_adu        10299 non-null  float64\n",
      " 41  hunger_adu               10299 non-null  float64\n",
      " 42  ate_once_adu             10299 non-null  float64\n",
      " 43  healthy_food_lack_minor  10038 non-null  float64\n",
      " 44  low_food_variety_minor   10038 non-null  float64\n",
      " 45  food_lack_meal_minor     10038 non-null  float64\n",
      " 46  ate_less_food_minor      10038 non-null  float64\n",
      " 47  ate_less_meals_minor     10038 non-null  float64\n",
      " 48  hunger_minor             10038 non-null  float64\n",
      " 49  ate_once_minor           10038 non-null  float64\n",
      "dtypes: float64(20), int64(21), object(9)\n",
      "memory usage: 4.0+ MB\n"
     ]
    }
   ],
   "source": [
    "m1_dataset.info()"
   ]
  },
  {
   "cell_type": "markdown",
   "metadata": {},
   "source": [
    "## Check for missing values"
   ]
  },
  {
   "cell_type": "markdown",
   "metadata": {},
   "source": [
    "Since a lot columns represent dummy variables for one answer and a lot of feature engineering is required, missing values would not be removed yet."
   ]
  },
  {
   "cell_type": "markdown",
   "metadata": {},
   "source": [
    "## Export dataset"
   ]
  },
  {
   "cell_type": "code",
   "execution_count": 23,
   "metadata": {},
   "outputs": [],
   "source": [
    "#Export dataset as a csv\n",
    "m1_dataset.to_csv(os.path.join(output_path,'m1_feature_extraction.csv'), index=None, header=True)"
   ]
  }
 ],
 "metadata": {
  "interpreter": {
   "hash": "13411cb057e0d9c179bd3d65bdeeedc371d923faa4873b8c60e49aab85d5bd78"
  },
  "kernelspec": {
   "display_name": "Python 3.8.0 64-bit",
   "language": "python",
   "name": "python3"
  },
  "language_info": {
   "codemirror_mode": {
    "name": "ipython",
    "version": 3
   },
   "file_extension": ".py",
   "mimetype": "text/x-python",
   "name": "python",
   "nbconvert_exporter": "python",
   "pygments_lexer": "ipython3",
   "version": "3.8.0"
  },
  "orig_nbformat": 4
 },
 "nbformat": 4,
 "nbformat_minor": 2
}
